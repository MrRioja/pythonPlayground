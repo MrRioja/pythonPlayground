{
 "cells": [
  {
   "cell_type": "markdown",
   "metadata": {},
   "source": [
    "# Capitulo 9 - Um objeto pythônico"
   ]
  },
  {
   "attachments": {},
   "cell_type": "markdown",
   "metadata": {},
   "source": [
    "## Representações de objetos"
   ]
  },
  {
   "attachments": {},
   "cell_type": "markdown",
   "metadata": {},
   "source": [
    "`repr()`: Devolve uma string que representa o objeto como o desenvolvedor quer vê-lo.\n",
    "\n",
    "`str()`: Devolve uma string que representa o objeto como o usuário quer vê-lo."
   ]
  },
  {
   "attachments": {},
   "cell_type": "markdown",
   "metadata": {},
   "source": [
    "## Retorno da classe Vector"
   ]
  },
  {
   "cell_type": "code",
   "execution_count": 19,
   "metadata": {},
   "outputs": [],
   "source": [
    "# Vector 2d: até agora, todos os métodos são especiais\n",
    "\n",
    "from array import array\n",
    "import math\n",
    "\n",
    "class Vector2d:\n",
    "  typecode = 'd'\n",
    "\n",
    "  def __init__(self, x, y):\n",
    "    self.x = float(x)\n",
    "    self.y = float(y)\n",
    "  \n",
    "  def __iter__(self):\n",
    "    return (i for i in (self.x, self.y))\n",
    "  \n",
    "  def __repr__(self):\n",
    "    class_name = type(self).__name__\n",
    "    return '{}({!r}, {!r})'.format(class_name, *self)\n",
    "  \n",
    "  def __str__(self):\n",
    "    return str(tuple(self))\n",
    "\n",
    "  def __format__(self, fmt_spec=''):\n",
    "    if fmt_spec.endswith('p'):\n",
    "      fmt_spec = fmt_spec[:-1]\n",
    "      coords = (abs(self), self.angle())\n",
    "      outer_fmt = '<{}, {}>'\n",
    "    else:\n",
    "      coords = self\n",
    "      outer_fmt = '({}, {})'\n",
    "    \n",
    "    components = (format(c, fmt_spec) for c in coords)\n",
    "    \n",
    "    return outer_fmt.format(*components)\n",
    "\n",
    "  def __bytes__(self):\n",
    "    return (bytes([ord(self.typecode)]) +\n",
    "            bytes(array(self.typecode, self)))\n",
    "  \n",
    "  def __eq__(self, other):\n",
    "    return tuple(self) == tuple(other)\n",
    "  \n",
    "  def __abs__(self):\n",
    "    return math.hypot(self.x, self.y)\n",
    "  \n",
    "  def __bool__(self):\n",
    "    return bool(abs(self))\n",
    "  \n",
    "  def angle(self):\n",
    "    return math.atan2(self.y, self.x)\n",
    "\n",
    "  @classmethod\n",
    "  def frombytes(cls, octets):\n",
    "    typecode = chr(octets[0])\n",
    "    memv = memoryview(octets[1:]).cast(typecode)\n",
    "    return cls(*memv)"
   ]
  },
  {
   "cell_type": "code",
   "execution_count": 17,
   "metadata": {},
   "outputs": [
    {
     "name": "stdout",
     "output_type": "stream",
     "text": [
      "3.0 4.0\n",
      "(3.0, 4.0)\n"
     ]
    },
    {
     "data": {
      "text/plain": [
       "(True, False)"
      ]
     },
     "execution_count": 17,
     "metadata": {},
     "output_type": "execute_result"
    }
   ],
   "source": [
    "# Instâncias de Vector2d têm várias representações\n",
    "\n",
    "v1 = Vector2d(3, 4)\n",
    "print(v1.x, v1.y)\n",
    "x, y = v1\n",
    "x, y\n",
    "v1\n",
    "\n",
    "v1_clone = eval(repr(v1))\n",
    "v1 == v1_clone\n",
    "print(v1)\n",
    "octets = bytes(v1)\n",
    "octets\n",
    "abs(v1)\n",
    "bool(v1), bool(Vector2d(0, 0))"
   ]
  },
  {
   "attachments": {},
   "cell_type": "markdown",
   "metadata": {},
   "source": [
    "## `classmethod` versus `staticmethod`"
   ]
  },
  {
   "cell_type": "code",
   "execution_count": 26,
   "metadata": {},
   "outputs": [
    {
     "data": {
      "text/plain": [
       "('span',)"
      ]
     },
     "execution_count": 26,
     "metadata": {},
     "output_type": "execute_result"
    }
   ],
   "source": [
    "# Comparando os comportamentos de classmethod e de staticmethod\n",
    "\n",
    "class Demo:\n",
    "  @classmethod\n",
    "  def classmeth(*args):\n",
    "    return args\n",
    "  \n",
    "  @staticmethod\n",
    "  def statmeth(*args):\n",
    "    return args\n",
    "\n",
    "Demo.classmeth()\n",
    "Demo.classmeth('span')\n",
    "\n",
    "Demo.statmeth()\n",
    "Demo.statmeth('span')"
   ]
  },
  {
   "attachments": {},
   "cell_type": "markdown",
   "metadata": {},
   "source": [
    "## Apresentações formatadas"
   ]
  },
  {
   "attachments": {},
   "cell_type": "markdown",
   "metadata": {},
   "source": [
    "`format_spec` é um especificador de formatação que é:\n",
    "  - o segundo argumento em `format(my_pbj, format_spec)`.\n",
    "  - o que estiver após os dois-pontos em um campo de substituição delimitado por {} em uma string de formatação usada com `str.format()`."
   ]
  },
  {
   "cell_type": "code",
   "execution_count": 29,
   "metadata": {},
   "outputs": [
    {
     "data": {
      "text/plain": [
       "'1 BRL = 0.41 USD'"
      ]
     },
     "execution_count": 29,
     "metadata": {},
     "output_type": "execute_result"
    }
   ],
   "source": [
    "brl = 1/2.43\n",
    "brl\n",
    "format(brl, '0.4f')\n",
    "'1 BRL = {rate:0.2f} USD'.format(rate=brl)"
   ]
  },
  {
   "cell_type": "code",
   "execution_count": 31,
   "metadata": {},
   "outputs": [
    {
     "data": {
      "text/plain": [
       "'66.7%'"
      ]
     },
     "execution_count": 31,
     "metadata": {},
     "output_type": "execute_result"
    }
   ],
   "source": [
    "format(42, 'b')\n",
    "format(2/3, '.1%')"
   ]
  },
  {
   "cell_type": "code",
   "execution_count": 33,
   "metadata": {},
   "outputs": [
    {
     "data": {
      "text/plain": [
       "\"It's now 12:33 AM\""
      ]
     },
     "execution_count": 33,
     "metadata": {},
     "output_type": "execute_result"
    }
   ],
   "source": [
    "from datetime import datetime\n",
    "\n",
    "now = datetime.now()\n",
    "format(now, '%H:%M:%S')\n",
    "\"It's now {:%I:%M %p}\".format(now)"
   ]
  },
  {
   "cell_type": "code",
   "execution_count": 38,
   "metadata": {},
   "outputs": [
    {
     "data": {
      "text/plain": [
       "'(3.000e+00, 4.000e+00)'"
      ]
     },
     "execution_count": 38,
     "metadata": {},
     "output_type": "execute_result"
    }
   ],
   "source": [
    "v1 = Vector2d(3, 4)\n",
    "format(v1)\n",
    "format(v1, '.3f')\n",
    "format(v1, '.3e')"
   ]
  },
  {
   "attachments": {},
   "cell_type": "markdown",
   "metadata": {},
   "source": [
    "## Um Vector2d hashable"
   ]
  },
  {
   "cell_type": "code",
   "execution_count": 3,
   "metadata": {},
   "outputs": [
    {
     "ename": "TypeError",
     "evalue": "unhashable type: 'Vector2d'",
     "output_type": "error",
     "traceback": [
      "\u001b[0;31m---------------------------------------------------------------------------\u001b[0m",
      "\u001b[0;31mTypeError\u001b[0m                                 Traceback (most recent call last)",
      "\u001b[1;32m/home/lrioja/Documentos/GitHub/PythonPlayground/PythonFluente/capitulo-09.ipynb Célula 16\u001b[0m in \u001b[0;36m2\n\u001b[1;32m      <a href='vscode-notebook-cell:/home/lrioja/Documentos/GitHub/PythonPlayground/PythonFluente/capitulo-09.ipynb#X21sZmlsZQ%3D%3D?line=0'>1</a>\u001b[0m v1 \u001b[39m=\u001b[39m Vector2d(\u001b[39m3\u001b[39m, \u001b[39m4\u001b[39m)\n\u001b[0;32m----> <a href='vscode-notebook-cell:/home/lrioja/Documentos/GitHub/PythonPlayground/PythonFluente/capitulo-09.ipynb#X21sZmlsZQ%3D%3D?line=1'>2</a>\u001b[0m \u001b[39mhash\u001b[39;49m(v1)\n",
      "\u001b[0;31mTypeError\u001b[0m: unhashable type: 'Vector2d'"
     ]
    }
   ],
   "source": [
    "v1 = Vector2d(3, 4)\n",
    "hash(v1)"
   ]
  },
  {
   "cell_type": "code",
   "execution_count": 16,
   "metadata": {},
   "outputs": [],
   "source": [
    "# Vector 2d\n",
    "\n",
    "from array import array\n",
    "import math\n",
    "\n",
    "class Vector2d:\n",
    "  __slots__ = ('__x', '__y')\n",
    "  typecode = 'd'\n",
    "\n",
    "  def __init__(self, x, y):\n",
    "    self.__x = float(x)\n",
    "    self.__y = float(y)\n",
    "  \n",
    "  @property\n",
    "  def x(self):\n",
    "    return self.__x\n",
    "  \n",
    "  @property\n",
    "  def y(self):\n",
    "    return self.__y\n",
    "\n",
    "  def __iter__(self):\n",
    "    return (i for i in (self.x, self.y))\n",
    "  \n",
    "  def __repr__(self):\n",
    "    class_name = type(self).__name__\n",
    "    return '{}({!r}, {!r})'.format(class_name, *self)\n",
    "  \n",
    "  def __str__(self):\n",
    "    return str(tuple(self))\n",
    "\n",
    "  def __format__(self, fmt_spec=''):\n",
    "    if fmt_spec.endswith('p'):\n",
    "      fmt_spec = fmt_spec[:-1]\n",
    "      coords = (abs(self), self.angle())\n",
    "      outer_fmt = '<{}, {}>'\n",
    "    else:\n",
    "      coords = self\n",
    "      outer_fmt = '({}, {})'\n",
    "    \n",
    "    components = (format(c, fmt_spec) for c in coords)\n",
    "    \n",
    "    return outer_fmt.format(*components)\n",
    "\n",
    "  def __bytes__(self):\n",
    "    return (bytes([ord(self.typecode)]) +\n",
    "            bytes(array(self.typecode, self)))\n",
    "  \n",
    "  def __eq__(self, other):\n",
    "    return tuple(self) == tuple(other)\n",
    "  \n",
    "  def __abs__(self):\n",
    "    return math.hypot(self.x, self.y)\n",
    "  \n",
    "  def __bool__(self):\n",
    "    return bool(abs(self))\n",
    "\n",
    "  def __hash__(self):\n",
    "    return hash(self.x) ^ hash(self.y)\n",
    "\n",
    "  def angle(self):\n",
    "    return math.atan2(self.y, self.x)\n",
    "\n",
    "  @classmethod\n",
    "  def frombytes(cls, octets):\n",
    "    typecode = chr(octets[0])\n",
    "    memv = memoryview(octets[1:]).cast(typecode)\n",
    "    return cls(*memv)"
   ]
  },
  {
   "cell_type": "code",
   "execution_count": 9,
   "metadata": {},
   "outputs": [
    {
     "data": {
      "text/plain": [
       "{Vector2d(3.0, 4.0), Vector2d(3.1, 4.2)}"
      ]
     },
     "execution_count": 9,
     "metadata": {},
     "output_type": "execute_result"
    }
   ],
   "source": [
    "v1 = Vector2d(3, 4)\n",
    "v2 = Vector2d(3.1, 4.2)\n",
    "hash(v1), hash(v2)\n",
    "set([v1, v2])"
   ]
  },
  {
   "attachments": {},
   "cell_type": "markdown",
   "metadata": {},
   "source": [
    "## Atributos privados e \"protegidos\" em Python"
   ]
  },
  {
   "cell_type": "code",
   "execution_count": 15,
   "metadata": {},
   "outputs": [
    {
     "data": {
      "text/plain": [
       "3.0"
      ]
     },
     "execution_count": 15,
     "metadata": {},
     "output_type": "execute_result"
    }
   ],
   "source": [
    "v1 = Vector2d(3,4)\n",
    "v1.__dict__\n",
    "v1._Vector2d__x"
   ]
  },
  {
   "attachments": {},
   "cell_type": "markdown",
   "metadata": {},
   "source": [
    "## Economizando espaço com o atributo de classe `__slots__`"
   ]
  },
  {
   "cell_type": "code",
   "execution_count": 18,
   "metadata": {},
   "outputs": [],
   "source": [
    "# time python3 mem_test.py vector2d_v3.py\n",
    "# time python3 mem_test.py vector2d_v3_slots.py"
   ]
  },
  {
   "attachments": {},
   "cell_type": "markdown",
   "metadata": {},
   "source": [
    "## Sobrescrita de atributos de classe"
   ]
  },
  {
   "cell_type": "code",
   "execution_count": 28,
   "metadata": {},
   "outputs": [
    {
     "data": {
      "text/plain": [
       "'d'"
      ]
     },
     "execution_count": 28,
     "metadata": {},
     "output_type": "execute_result"
    }
   ],
   "source": [
    "v1 = Vector2d(1.1, 2.2)\n",
    "dumpd = bytes(v1)\n",
    "dumpd\n",
    "len(dumpd)\n",
    "\n",
    "v1.typecode = 'f'\n",
    "dumpf = bytes(v1)\n",
    "dumpf\n",
    "len(dumpf)\n",
    "Vector2d.typecode"
   ]
  },
  {
   "cell_type": "code",
   "execution_count": 30,
   "metadata": {},
   "outputs": [
    {
     "data": {
      "text/plain": [
       "9"
      ]
     },
     "execution_count": 30,
     "metadata": {},
     "output_type": "execute_result"
    }
   ],
   "source": [
    "# ShortVector2d é uma subclasse de Vector2d, que apenas sobrescreve o typecode default\n",
    "\n",
    "class ShortVector2d(Vector2d):\n",
    "  typecode = 'f'\n",
    "\n",
    "sv = ShortVector2d(1/11, 1/27)\n",
    "sv\n",
    "len(bytes(sv))"
   ]
  }
 ],
 "metadata": {
  "kernelspec": {
   "display_name": "Python 3",
   "language": "python",
   "name": "python3"
  },
  "language_info": {
   "codemirror_mode": {
    "name": "ipython",
    "version": 3
   },
   "file_extension": ".py",
   "mimetype": "text/x-python",
   "name": "python",
   "nbconvert_exporter": "python",
   "pygments_lexer": "ipython3",
   "version": "3.8.10"
  },
  "orig_nbformat": 4
 },
 "nbformat": 4,
 "nbformat_minor": 2
}
