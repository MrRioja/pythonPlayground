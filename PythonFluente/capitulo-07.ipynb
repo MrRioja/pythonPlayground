{
 "cells": [
  {
   "cell_type": "markdown",
   "metadata": {},
   "source": [
    "# Capitulo 7 - Decoradores de função e closures"
   ]
  },
  {
   "cell_type": "markdown",
   "metadata": {},
   "source": [
    "## Básico sobre decoradores"
   ]
  },
  {
   "attachments": {},
   "cell_type": "markdown",
   "metadata": {},
   "source": [
    "Um decorador é um invocável (callable) que aceita outra função como argumento (a função decorada).\n",
    "\n",
    "O decorador pode realizar algum processamento com a função decorada e devolvê-la ou substituí-la por outra função ou um objeto invocável. Em outras palavras, supondo que haja um decorador chamado decorate, este código:"
   ]
  },
  {
   "cell_type": "code",
   "execution_count": null,
   "metadata": {},
   "outputs": [],
   "source": [
    "@decorate()\n",
    "def target():\n",
    "  print('Running target()')\n",
    "\n",
    "# Tem o mesmo efeito que escrever:\n",
    "\n",
    "def target():\n",
    "  print('running target()')\n",
    "\n",
    "target = decorate(target)"
   ]
  },
  {
   "cell_type": "code",
   "execution_count": 8,
   "metadata": {},
   "outputs": [
    {
     "name": "stdout",
     "output_type": "stream",
     "text": [
      "running inner()\n"
     ]
    },
    {
     "data": {
      "text/plain": [
       "<function __main__.deco.<locals>.inner()>"
      ]
     },
     "execution_count": 8,
     "metadata": {},
     "output_type": "execute_result"
    }
   ],
   "source": [
    "# Um decorador normalmente substitui uma função por outra função diferente\n",
    "\n",
    "def deco(func):\n",
    "  def inner():\n",
    "    print('running inner()')\n",
    "    \n",
    "  return inner\n",
    "\n",
    "@deco\n",
    "def target():\n",
    "  print('running target()')\n",
    "\n",
    "target()\n",
    "target"
   ]
  },
  {
   "attachments": {},
   "cell_type": "markdown",
   "metadata": {},
   "source": [
    "## Quando Python executa os decoradores"
   ]
  },
  {
   "attachments": {},
   "cell_type": "markdown",
   "metadata": {},
   "source": [
    "Uma característica fundamental dos decoradores é que eles são executados imediatamente após a função decorada ser definida. Normalmente, isso ocorre em tempo de importação."
   ]
  },
  {
   "cell_type": "code",
   "execution_count": 14,
   "metadata": {},
   "outputs": [
    {
     "name": "stdout",
     "output_type": "stream",
     "text": [
      "running register(<function f1 at 0x7f3ad4367ee0>)\n",
      "running register(<function f2 at 0x7f3ad4348310>)\n",
      "running main()\n",
      "registry -> [<function f1 at 0x7f3ad4367ee0>, <function f2 at 0x7f3ad4348310>]\n",
      "running f1()\n",
      "running f2()\n",
      "running f3()\n"
     ]
    }
   ],
   "source": [
    "# Módulo registration.py\n",
    "\n",
    "registry = []\n",
    "\n",
    "def register(func):\n",
    "  print('running register(%s)' % func)\n",
    "  registry.append(func)\n",
    "  return func\n",
    "\n",
    "@register\n",
    "def f1():\n",
    "  print('running f1()')\n",
    "\n",
    "@register\n",
    "def f2():\n",
    "  print('running f2()')\n",
    "\n",
    "def f3():\n",
    "  print('running f3()')\n",
    "\n",
    "def main():\n",
    "  print('running main()')\n",
    "  print('registry ->', registry)\n",
    "  f1()\n",
    "  f2()\n",
    "  f3()\n",
    "\n",
    "# if __name__ =='__ main__':\n",
    "main()"
   ]
  },
  {
   "attachments": {},
   "cell_type": "markdown",
   "metadata": {},
   "source": [
    "## Padrão Strategy melhorado com decorador"
   ]
  },
  {
   "cell_type": "code",
   "execution_count": 16,
   "metadata": {},
   "outputs": [],
   "source": [
    "# A lista promos é preenchida pelo decorador promotion\n",
    "\n",
    "promos = []\n",
    "\n",
    "def promotion(promo_func):\n",
    "  promos.append(promo_func)\n",
    "  return promo_func\n",
    "\n",
    "@promotion\n",
    "def fidelity (order):\n",
    "  \"\"\"5% de desconto para clientes con mil ou mais pontos no programa de fidelidade\"\"\"\n",
    "  return order.total() * .05 if order.customer.fidelity >= 1000 else 0\n",
    "\n",
    "@promotion\n",
    "def bulk_item(order):\n",
    "  \"\"\"10% de desconto para cada LineItem com 20 ou mais unidades\"\"\"\n",
    "  discount = 0\n",
    "  for item in order.cart:\n",
    "    if item.quantity >= 20:\n",
    "      discount += item.total() * .1\n",
    "  return discount\n",
    "\n",
    "@promotion\n",
    "def large_order(order):\n",
    "  \"\"\"7% de desconto para pedidos com 10 ou mais itens diferentes\"\"\"\n",
    "  distinct_items = {item.product for item in order.cart}\n",
    "  if len(distinct_items) >= 10:\n",
    "    return order.total() * .07\n",
    "  return 0\n",
    "\n",
    "def best_promo(order):\n",
    "  \"\"\"Seleciona o melhor desconto disponível\"\"\"\n",
    "  return max(promo(order) for promo in promos)"
   ]
  },
  {
   "attachments": {},
   "cell_type": "markdown",
   "metadata": {},
   "source": [
    "## Regras para escopo de variáveis"
   ]
  },
  {
   "cell_type": "code",
   "execution_count": 18,
   "metadata": {},
   "outputs": [
    {
     "name": "stdout",
     "output_type": "stream",
     "text": [
      "3\n",
      "6\n"
     ]
    }
   ],
   "source": [
    "# Função que lê uma variável local e uma variável global\n",
    "\n",
    "b=6\n",
    "\n",
    "def f1(a):\n",
    "  print(a)\n",
    "  print(b)\n",
    "\n",
    "f1(3)"
   ]
  },
  {
   "cell_type": "code",
   "execution_count": 20,
   "metadata": {},
   "outputs": [
    {
     "name": "stdout",
     "output_type": "stream",
     "text": [
      "3\n"
     ]
    },
    {
     "ename": "UnboundLocalError",
     "evalue": "local variable 'b' referenced before assignment",
     "output_type": "error",
     "traceback": [
      "\u001b[0;31m---------------------------------------------------------------------------\u001b[0m",
      "\u001b[0;31mUnboundLocalError\u001b[0m                         Traceback (most recent call last)",
      "Cell \u001b[0;32mIn [20], line 10\u001b[0m\n\u001b[1;32m      7\u001b[0m   \u001b[39mprint\u001b[39m(b)\n\u001b[1;32m      8\u001b[0m   b \u001b[39m=\u001b[39m \u001b[39m9\u001b[39m\n\u001b[0;32m---> 10\u001b[0m f2(\u001b[39m3\u001b[39;49m)\n",
      "Cell \u001b[0;32mIn [20], line 7\u001b[0m, in \u001b[0;36mf2\u001b[0;34m(a)\u001b[0m\n\u001b[1;32m      5\u001b[0m \u001b[39mdef\u001b[39;00m \u001b[39mf2\u001b[39m(a):\n\u001b[1;32m      6\u001b[0m   \u001b[39mprint\u001b[39m(a)\n\u001b[0;32m----> 7\u001b[0m   \u001b[39mprint\u001b[39m(b)\n\u001b[1;32m      8\u001b[0m   b \u001b[39m=\u001b[39m \u001b[39m9\u001b[39m\n",
      "\u001b[0;31mUnboundLocalError\u001b[0m: local variable 'b' referenced before assignment"
     ]
    }
   ],
   "source": [
    "# Variável b é local porque ela recebe um valor no corpo da função\n",
    "\n",
    "b = 6\n",
    "\n",
    "def f2(a):\n",
    "  print(a)\n",
    "  print(b)\n",
    "  b = 9\n",
    "\n",
    "f2(3)"
   ]
  },
  {
   "cell_type": "code",
   "execution_count": 27,
   "metadata": {},
   "outputs": [
    {
     "name": "stdout",
     "output_type": "stream",
     "text": [
      "3\n",
      "30\n"
     ]
    },
    {
     "data": {
      "text/plain": [
       "30"
      ]
     },
     "execution_count": 27,
     "metadata": {},
     "output_type": "execute_result"
    }
   ],
   "source": [
    "# Se quisermos que o interpretador trate b como uma variável global apesar da atribuição dentro da função, devemos usar a declaração global:\n",
    "\n",
    "def f3(a):\n",
    "  global b\n",
    "  print(a)\n",
    "  print(b)\n",
    "  b = 9\n",
    "\n",
    "f3(3)\n",
    "b\n",
    "a = 3\n",
    "b = 8\n",
    "b = 30\n",
    "b"
   ]
  },
  {
   "attachments": {},
   "cell_type": "markdown",
   "metadata": {},
   "source": [
    "## Closures"
   ]
  },
  {
   "cell_type": "code",
   "execution_count": 29,
   "metadata": {},
   "outputs": [],
   "source": [
    "# average_oo.py: uma classe para calcular uma média em evolução\n",
    "\n",
    "class Averager():\n",
    "  def __init__(self):\n",
    "    self.series = []\n",
    "  \n",
    "  def __call__(self, new_value):\n",
    "    self.series.append(new_value)\n",
    "    total = sum(self.series)\n",
    "    return total/len(self.series)"
   ]
  },
  {
   "cell_type": "code",
   "execution_count": 32,
   "metadata": {},
   "outputs": [
    {
     "data": {
      "text/plain": [
       "11.0"
      ]
     },
     "execution_count": 32,
     "metadata": {},
     "output_type": "execute_result"
    }
   ],
   "source": [
    "avg = Averager()\n",
    "avg(10)\n",
    "avg(11)\n",
    "avg(12)"
   ]
  },
  {
   "cell_type": "code",
   "execution_count": 33,
   "metadata": {},
   "outputs": [],
   "source": [
    "# average.py: uma função de ordem superior para calcular uma média em evolução\n",
    "\n",
    "def make_averager():\n",
    "  series = []\n",
    "  \n",
    "  def averager(new_value):\n",
    "    series.append(new_value)\n",
    "    total = sum(series)\n",
    "    return total/len(series)\n",
    "  \n",
    "  return averager"
   ]
  },
  {
   "cell_type": "code",
   "execution_count": 36,
   "metadata": {},
   "outputs": [
    {
     "data": {
      "text/plain": [
       "11.0"
      ]
     },
     "execution_count": 36,
     "metadata": {},
     "output_type": "execute_result"
    }
   ],
   "source": [
    "avg = make_averager()\n",
    "avg(10)\n",
    "avg(11)\n",
    "avg(12)"
   ]
  },
  {
   "cell_type": "code",
   "execution_count": 42,
   "metadata": {},
   "outputs": [
    {
     "data": {
      "text/plain": [
       "[10, 11, 12]"
      ]
     },
     "execution_count": 42,
     "metadata": {},
     "output_type": "execute_result"
    }
   ],
   "source": [
    "# Inspecionando a função criada por make_averager\n",
    "\n",
    "avg.__code__.co_varnames\n",
    "avg.__code__.co_freevars\n",
    "avg.__closure__\n",
    "avg.__closure__[0].cell_contents"
   ]
  },
  {
   "attachments": {},
   "cell_type": "markdown",
   "metadata": {},
   "source": [
    "Para resumir: uma closure é uma função que preserva as associações com as variáveis livres existentes quando a função é definida, de modo que elas possam ser usadas posteriormente quando a função for chamada e o escopo de definição não estiver mais disponível."
   ]
  },
  {
   "attachments": {},
   "cell_type": "markdown",
   "metadata": {},
   "source": [
    "## Declaração nonlocal"
   ]
  },
  {
   "cell_type": "code",
   "execution_count": 43,
   "metadata": {},
   "outputs": [],
   "source": [
    "# Uma função de ordem superior com falha para tentar calcular uma média em evolução sem manter todo o histórico\n",
    "\n",
    "def make_averager():\n",
    "  count = 0\n",
    "  total = 0\n",
    "  \n",
    "  def averager(new_value):\n",
    "    count += 1\n",
    "    total += new_value\n",
    "    return total / count\n",
    "  \n",
    "  return averager"
   ]
  },
  {
   "cell_type": "code",
   "execution_count": 44,
   "metadata": {},
   "outputs": [
    {
     "ename": "UnboundLocalError",
     "evalue": "local variable 'count' referenced before assignment",
     "output_type": "error",
     "traceback": [
      "\u001b[0;31m---------------------------------------------------------------------------\u001b[0m",
      "\u001b[0;31mUnboundLocalError\u001b[0m                         Traceback (most recent call last)",
      "Cell \u001b[0;32mIn [44], line 2\u001b[0m\n\u001b[1;32m      1\u001b[0m avg \u001b[39m=\u001b[39m make_averager()\n\u001b[0;32m----> 2\u001b[0m avg(\u001b[39m10\u001b[39;49m)\n",
      "Cell \u001b[0;32mIn [43], line 8\u001b[0m, in \u001b[0;36mmake_averager.<locals>.averager\u001b[0;34m(new_value)\u001b[0m\n\u001b[1;32m      7\u001b[0m \u001b[39mdef\u001b[39;00m \u001b[39maverager\u001b[39m(new_value):\n\u001b[0;32m----> 8\u001b[0m   count \u001b[39m+\u001b[39m\u001b[39m=\u001b[39m \u001b[39m1\u001b[39m\n\u001b[1;32m      9\u001b[0m   total \u001b[39m+\u001b[39m\u001b[39m=\u001b[39m new_value\n\u001b[1;32m     10\u001b[0m   \u001b[39mreturn\u001b[39;00m total \u001b[39m/\u001b[39m count\n",
      "\u001b[0;31mUnboundLocalError\u001b[0m: local variable 'count' referenced before assignment"
     ]
    }
   ],
   "source": [
    "avg = make_averager()\n",
    "avg(10)"
   ]
  },
  {
   "cell_type": "code",
   "execution_count": 45,
   "metadata": {},
   "outputs": [],
   "source": [
    "# Calcula uma média em evolução sem manter todo o histórico (fixo com o uso de nonlocal)\n",
    "\n",
    "def make_averager():\n",
    "  count = 0\n",
    "  total = 0\n",
    "  \n",
    "  def averager(new_value):\n",
    "    nonlocal count, total\n",
    "    count += 1\n",
    "    total += new_value\n",
    "    return total / count\n",
    "  \n",
    "  return averager"
   ]
  },
  {
   "attachments": {},
   "cell_type": "markdown",
   "metadata": {},
   "source": [
    "## Implementando um decorador simples"
   ]
  },
  {
   "cell_type": "code",
   "execution_count": 49,
   "metadata": {},
   "outputs": [],
   "source": [
    "# Um decorador simples para apresentar o tempo de execução das funções\n",
    "\n",
    "import time\n",
    "\n",
    "def clock(func):\n",
    "  def clocked(*args):\n",
    "    t0 = time.perf_counter()\n",
    "    result = func(*args)\n",
    "    elapsed = time.perf_counter() - t0\n",
    "    name = func.__name__\n",
    "    arg_str = ''.join(repr(arg) for arg in args)\n",
    "    print('[%0.8fs] %s(%s) -> %r' % (elapsed, name, arg_str, result))\n",
    "\n",
    "    return result\n",
    "  \n",
    "  return clocked"
   ]
  },
  {
   "cell_type": "code",
   "execution_count": 50,
   "metadata": {},
   "outputs": [
    {
     "name": "stdout",
     "output_type": "stream",
     "text": [
      "**************************************** Calling snooze(.123)\n",
      "[0.12316204s] snooze(0.123) -> None\n",
      "**************************************** Calling factorial(6))\n",
      "[0.00000112s] factorial(1) -> 1\n",
      "[0.00002996s] factorial(2) -> 2\n",
      "[0.00004562s] factorial(3) -> 6\n",
      "[0.00005894s] factorial(4) -> 24\n",
      "[0.00007277s] factorial(5) -> 120\n",
      "[0.00008873s] factorial(6) -> 720\n",
      "6! = 720\n"
     ]
    }
   ],
   "source": [
    "# Usando o decorador clock\n",
    "\n",
    "import time\n",
    "\n",
    "@clock\n",
    "def snooze(seconds):\n",
    "  time.sleep(seconds)\n",
    "\n",
    "@clock\n",
    "def factorial(n):\n",
    "  return 1 if n < 2 else n * factorial(n-1)\n",
    "\n",
    "# if __name__ == '__ main__':\n",
    "print('*' * 40, 'Calling snooze(.123)')\n",
    "snooze(.123)\n",
    "print('*' * 40, 'Calling factorial(6))')\n",
    "print('6! =', factorial(6))"
   ]
  },
  {
   "cell_type": "code",
   "execution_count": 51,
   "metadata": {},
   "outputs": [],
   "source": [
    "# Um decorador dock melhorado\n",
    "\n",
    "import time\n",
    "import functools\n",
    "\n",
    "def clock(func):\n",
    "  \n",
    "  @functools.wraps(func)\n",
    "  def clocked(*args, **kwargs):\n",
    "    t0 = time.time()\n",
    "    result = func(*args, **kwargs)\n",
    "    elapsed = time.time() - t0\n",
    "    name = func.__name__\n",
    "    arg_lst = []\n",
    "    \n",
    "    if args:\n",
    "      arg_lst.append(', '.join(repr(arg) for arg in args))\n",
    "    \n",
    "    if kwargs:\n",
    "      pairs = ['%s=%r' % (k, w) for k, w in sorted(kwargs.items())]\n",
    "      arg_lst.append(', '.join(pairs))\n",
    "    \n",
    "    arg_str = ', '.join(arg_lst)\n",
    "    print('[%0.8fs] %s(%s) -> %r ' % (elapsed, name, arg_str, result))\n",
    "    \n",
    "    return result\n",
    "\n",
    "  return clocked"
   ]
  },
  {
   "attachments": {},
   "cell_type": "markdown",
   "metadata": {},
   "source": [
    "## Decoradores da biblioteca-padrão"
   ]
  },
  {
   "attachments": {},
   "cell_type": "markdown",
   "metadata": {},
   "source": [
    "### Memoização com functools.lru_cache"
   ]
  },
  {
   "cell_type": "code",
   "execution_count": 52,
   "metadata": {},
   "outputs": [
    {
     "name": "stdout",
     "output_type": "stream",
     "text": [
      "[0.00000095s] fibonacci(0) -> 0 \n",
      "[0.00000024s] fibonacci(1) -> 1 \n",
      "[0.00008368s] fibonacci(2) -> 1 \n",
      "[0.00000024s] fibonacci(1) -> 1 \n",
      "[0.00000024s] fibonacci(0) -> 0 \n",
      "[0.00000024s] fibonacci(1) -> 1 \n",
      "[0.00002551s] fibonacci(2) -> 1 \n",
      "[0.00003362s] fibonacci(3) -> 2 \n",
      "[0.00012565s] fibonacci(4) -> 3 \n",
      "[0.00000000s] fibonacci(1) -> 1 \n",
      "[0.00000048s] fibonacci(0) -> 0 \n",
      "[0.00000000s] fibonacci(1) -> 1 \n",
      "[0.00000763s] fibonacci(2) -> 1 \n",
      "[0.00001550s] fibonacci(3) -> 2 \n",
      "[0.00000000s] fibonacci(0) -> 0 \n",
      "[0.00000024s] fibonacci(1) -> 1 \n",
      "[0.00000763s] fibonacci(2) -> 1 \n",
      "[0.00000024s] fibonacci(1) -> 1 \n",
      "[0.00000048s] fibonacci(0) -> 0 \n",
      "[0.00000000s] fibonacci(1) -> 1 \n",
      "[0.00000787s] fibonacci(2) -> 1 \n",
      "[0.00001526s] fibonacci(3) -> 2 \n",
      "[0.00003004s] fibonacci(4) -> 3 \n",
      "[0.00005293s] fibonacci(5) -> 5 \n",
      "[0.00018716s] fibonacci(6) -> 8 \n",
      "8\n"
     ]
    }
   ],
   "source": [
    "# A maneira recursiva bastante custosa de calcular o enésimo número da série de Fibonacci\n",
    "\n",
    "@clock\n",
    "def fibonacci(n):\n",
    "  if n < 2:\n",
    "    return n\n",
    "  return fibonacci(n-2) + fibonacci(n-1)\n",
    "\n",
    "# if __name__=='__main__':\n",
    "print(fibonacci(6))"
   ]
  },
  {
   "cell_type": "code",
   "execution_count": 56,
   "metadata": {},
   "outputs": [
    {
     "name": "stdout",
     "output_type": "stream",
     "text": [
      "[0.00000095s] fibonacci(0) -> 0 \n",
      "[0.00000048s] fibonacci(1) -> 1 \n",
      "[0.00006199s] fibonacci(2) -> 1 \n",
      "[0.00000048s] fibonacci(3) -> 2 \n",
      "[0.00007415s] fibonacci(4) -> 3 \n",
      "[0.00000024s] fibonacci(5) -> 5 \n",
      "[0.00008559s] fibonacci(6) -> 8 \n",
      "8\n"
     ]
    }
   ],
   "source": [
    "# Implementação mais rápida usando caching\n",
    "\n",
    "import functools\n",
    "\n",
    "@functools.lru_cache()\n",
    "@clock\n",
    "def fibonacci(n):\n",
    "  if n < 2:\n",
    "    return n\n",
    "  return fibonacci(n-2) + fibonacci(n-1)\n",
    "\n",
    "# if __name__=='__main__':\n",
    "print(fibonacci(6))"
   ]
  },
  {
   "attachments": {},
   "cell_type": "markdown",
   "metadata": {},
   "source": [
    "### Funções genéricas com dispatch simples"
   ]
  },
  {
   "cell_type": "code",
   "execution_count": 59,
   "metadata": {},
   "outputs": [],
   "source": [
    "import html\n",
    "\n",
    "def htmlize(obj):\n",
    "  content = html.escape(repr(obj))\n",
    "  \n",
    "  return '<pre>{}</pre>'.format(content)"
   ]
  },
  {
   "cell_type": "code",
   "execution_count": 67,
   "metadata": {},
   "outputs": [
    {
     "name": "stdout",
     "output_type": "stream",
     "text": [
      "<pre>[&#x27;alpha&#x27;, 66, {1, 2, 3}]</pre>\n"
     ]
    }
   ],
   "source": [
    "# htmlize gera HTML personalizado conforme os diferentes tipos de objeto\n",
    "\n",
    "htmlize({1, 2, 3})\n",
    "htmlize(abs)\n",
    "htmlize('Heimlich & Co.\\n- a game')\n",
    "htmlize(42)\n",
    "print(htmlize(['alpha', 66, {3, 2, 1}]))"
   ]
  },
  {
   "cell_type": "code",
   "execution_count": null,
   "metadata": {},
   "outputs": [],
   "source": [
    "# singledispatch cria um htmlize.register personalizado para reunir várias funções em uma função genérica\n",
    "\n",
    "from functools import singledispatch\n",
    "from collections import abc\n",
    "import numbers\n",
    "import html\n",
    "\n",
    "@singledispatch\n",
    "def htmlize(obj):\n",
    "  content = html.escape(repr(obj))\n",
    "  return '<pre>{}</pre>'.format(content)\n",
    "\n",
    "@htmlize.register(str)\n",
    "def _(text):\n",
    "  content = html.escape(text).replace('\\n', '<br>\\n')\n",
    "  return '<p>{0}</p>'.format(content)\n",
    "\n",
    "@htmlize.register(numbers.Integral)\n",
    "def _(n):\n",
    "  return '<pre>{0} (0x{0:x})</pre>'.format(n)\n",
    "\n",
    "@htmlize.register(tuple)\n",
    "@htmlize.register(abc.MutableSequence)\n",
    "def _(seq):\n",
    "  inner = '</li>\\n<li>'.join(htmlize(item) for item in seq)\n",
    "  return '<ul>\\n<li>' + inner + '</li>\\n</ul>'"
   ]
  },
  {
   "attachments": {},
   "cell_type": "markdown",
   "metadata": {},
   "source": [
    "## Decoradores empilhados"
   ]
  },
  {
   "attachments": {},
   "cell_type": "markdown",
   "metadata": {},
   "source": [
    "Quando dois decoradores `@d1` e `@d2` são aplicados a uma função `f` nessa ordem, o resultado será o mesmo que `f = d1(d2(f))`.\n",
    "\n",
    "Em outras palavras, isto:\n",
    "\n",
    "```py\n",
    "@d1\n",
    "@d2\n",
    "def f():\n",
    "  print('f')\n",
    "```\n",
    "\n",
    "é o mesmo que:\n",
    "\n",
    "```py\n",
    "def f():\n",
    "  print('f')\n",
    "\n",
    "f = d1(d2(f))\n",
    "```"
   ]
  },
  {
   "attachments": {},
   "cell_type": "markdown",
   "metadata": {},
   "source": [
    "## Decoradores parametrizados"
   ]
  },
  {
   "cell_type": "code",
   "execution_count": 68,
   "metadata": {},
   "outputs": [
    {
     "name": "stdout",
     "output_type": "stream",
     "text": [
      "running register(<function f1 at 0x7f3ad4367790>)\n",
      "running f1()\n",
      "running main()\n",
      "registry -> [<function f1 at 0x7f3ad4367790>]\n"
     ]
    }
   ],
   "source": [
    "# Módulo registration.py do exemplo 7.2 condensado, repetido aqui por conveniência\n",
    "\n",
    "registry = []\n",
    "\n",
    "def register(func):\n",
    "  print('running register(%s)' % func)\n",
    "  registry.append(func)\n",
    "  return func\n",
    "\n",
    "@register\n",
    "def f1():\n",
    "  print('running f1()')\n",
    "  print('running main()')\n",
    "  print('registry ->', registry)\n",
    "\n",
    "f1()"
   ]
  },
  {
   "cell_type": "markdown",
   "metadata": {},
   "source": [
    "### Um decorador de registro parametrizado"
   ]
  },
  {
   "cell_type": "code",
   "execution_count": 74,
   "metadata": {},
   "outputs": [
    {
     "name": "stdout",
     "output_type": "stream",
     "text": [
      "running register(active=False)->decorate(<function f1 at 0x7f3ad4348040>)\n",
      "running register(active=True)->decorate(<function f2 at 0x7f3abeef8310>)\n"
     ]
    },
    {
     "data": {
      "text/plain": [
       "{<function __main__.f2()>}"
      ]
     },
     "execution_count": 74,
     "metadata": {},
     "output_type": "execute_result"
    }
   ],
   "source": [
    "# Para aceitar parâmetros, o novo decorador register deve ser chamado como uma função\n",
    "\n",
    "registry = set()\n",
    "\n",
    "def register(active=True):\n",
    "  def decorate(func):\n",
    "    print('running register(active=%s)->decorate(%s)' % (active, func))\n",
    "    \n",
    "    if active:\n",
    "      registry.add(func)\n",
    "    else:\n",
    "      registry.discard(func)\n",
    "    \n",
    "    return func\n",
    "  return decorate\n",
    "\n",
    "@register(active=False)\n",
    "def f1():\n",
    "  print('running f1()')\n",
    "\n",
    "@register()\n",
    "def f2():\n",
    "  print('running f2()')\n",
    "\n",
    "def f3():\n",
    "  print('running f3()')\n",
    "\n",
    "registry"
   ]
  },
  {
   "cell_type": "code",
   "execution_count": 82,
   "metadata": {},
   "outputs": [
    {
     "name": "stdout",
     "output_type": "stream",
     "text": [
      "running register(active=True)->decorate(<function f2 at 0x7f3abeef8310>)\n",
      "running register(active=False)->decorate(<function f2 at 0x7f3abeef8310>)\n"
     ]
    },
    {
     "data": {
      "text/plain": [
       "<function __main__.f2()>"
      ]
     },
     "execution_count": 82,
     "metadata": {},
     "output_type": "execute_result"
    }
   ],
   "source": [
    "# Registrando uma função\n",
    "register()(f2)\n",
    "\n",
    "registry\n",
    "\n",
    "# Removendo uma função do registry\n",
    "register(active=False)(f2)"
   ]
  },
  {
   "attachments": {},
   "cell_type": "markdown",
   "metadata": {},
   "source": [
    "### Decorador clock parametrizado"
   ]
  },
  {
   "cell_type": "code",
   "execution_count": 83,
   "metadata": {},
   "outputs": [
    {
     "name": "stdout",
     "output_type": "stream",
     "text": [
      "[0.12321472s] snooze(0.123) -> None\n",
      "[0.12317705s] snooze(0.123) -> None\n",
      "[0.12315798s] snooze(0.123) -> None\n"
     ]
    }
   ],
   "source": [
    "# Módulo clockdeco_param.py: o decorador dock parametrizado\n",
    "\n",
    "import time\n",
    "\n",
    "DEFAULT_FMT = '[{elapsed:0.8f}s] {name}({args}) -> {result}'\n",
    "\n",
    "def clock(fmt=DEFAULT_FMT):\n",
    "  def decorate(func):\n",
    "    def clocked(*_args):\n",
    "      t0 = time.time()\n",
    "      _result = func(*_args)\n",
    "      elapsed = time.time() - t0\n",
    "      name = func.__name__\n",
    "      args = ', '.join(repr(arg) for arg in _args)\n",
    "      result = repr(_result)\n",
    "      print(fmt.format(**locals()))\n",
    "      \n",
    "      return _result\n",
    "    return clocked\n",
    "  return decorate\n",
    "\n",
    "if __name__ == '__main__':\n",
    "  @clock()\n",
    "  def snooze(seconds):\n",
    "    time.sleep(seconds)\n",
    "  \n",
    "  for i in range(3):\n",
    "    snooze(.123)"
   ]
  },
  {
   "cell_type": "code",
   "execution_count": 84,
   "metadata": {},
   "outputs": [
    {
     "name": "stdout",
     "output_type": "stream",
     "text": [
      "snooze: 0.12314295768737793s\n",
      "snooze: 0.12324404716491699s\n",
      "snooze: 0.12318253517150879s\n"
     ]
    }
   ],
   "source": [
    "# dockdeco_param_demo1.py\n",
    "\n",
    "import time\n",
    "\n",
    "@clock('{name}: {elapsed}s')\n",
    "def snooze(seconds):\n",
    "  time.sleep(seconds)\n",
    "  \n",
    "for i in range(3):\n",
    "  snooze(.123)"
   ]
  },
  {
   "cell_type": "code",
   "execution_count": 85,
   "metadata": {},
   "outputs": [
    {
     "name": "stdout",
     "output_type": "stream",
     "text": [
      "snooze(0.123) dt=0.123s\n",
      "snooze(0.123) dt=0.123s\n",
      "snooze(0.123) dt=0.123s\n"
     ]
    }
   ],
   "source": [
    "# clockdeco_param_demo2.py\n",
    "\n",
    "import time\n",
    "\n",
    "\n",
    "@clock('{name}({args}) dt={elapsed:0.3f}s')\n",
    "def snooze(seconds):\n",
    "  time.sleep(seconds)\n",
    "\n",
    "for i in range(3):\n",
    "  snooze(.123)"
   ]
  }
 ],
 "metadata": {
  "kernelspec": {
   "display_name": "Python 3",
   "language": "python",
   "name": "python3"
  },
  "language_info": {
   "codemirror_mode": {
    "name": "ipython",
    "version": 3
   },
   "file_extension": ".py",
   "mimetype": "text/x-python",
   "name": "python",
   "nbconvert_exporter": "python",
   "pygments_lexer": "ipython3",
   "version": "3.8.10"
  },
  "orig_nbformat": 4,
  "vscode": {
   "interpreter": {
    "hash": "31f2aee4e71d21fbe5cf8b01ff0e069b9275f58929596ceb00d14d90e3e16cd6"
   }
  }
 },
 "nbformat": 4,
 "nbformat_minor": 2
}
