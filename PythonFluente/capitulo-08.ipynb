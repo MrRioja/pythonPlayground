{
 "cells": [
  {
   "cell_type": "markdown",
   "metadata": {},
   "source": [
    "# Capitulo 8 - Referências a objetos, mutabilidade e reciclagem"
   ]
  },
  {
   "attachments": {},
   "cell_type": "markdown",
   "metadata": {},
   "source": [
    "## Variáveis não são caixas"
   ]
  },
  {
   "cell_type": "code",
   "execution_count": 1,
   "metadata": {},
   "outputs": [
    {
     "data": {
      "text/plain": [
       "[1, 2, 3, 4]"
      ]
     },
     "execution_count": 1,
     "metadata": {},
     "output_type": "execute_result"
    }
   ],
   "source": [
    "# Variáveis a e b armazenam referências à mesma lista em vez de cópias\n",
    "a = [1, 2, 3]\n",
    "b = a\n",
    "a.append(4)\n",
    "b"
   ]
  },
  {
   "cell_type": "code",
   "execution_count": 7,
   "metadata": {},
   "outputs": [
    {
     "name": "stdout",
     "output_type": "stream",
     "text": [
      "Gizmo id: 139748774050352\n",
      "Gizmo id: 139748774049584\n"
     ]
    },
    {
     "ename": "TypeError",
     "evalue": "unsupported operand type(s) for *: 'Gizmo' and 'int'",
     "output_type": "error",
     "traceback": [
      "\u001b[0;31m---------------------------------------------------------------------------\u001b[0m",
      "\u001b[0;31mTypeError\u001b[0m                                 Traceback (most recent call last)",
      "Cell \u001b[0;32mIn [7], line 8\u001b[0m\n\u001b[1;32m      5\u001b[0m     \u001b[39mprint\u001b[39m(\u001b[39m'\u001b[39m\u001b[39mGizmo id: \u001b[39m\u001b[39m%d\u001b[39;00m\u001b[39m'\u001b[39m \u001b[39m%\u001b[39m \u001b[39mid\u001b[39m(\u001b[39mself\u001b[39m))\n\u001b[1;32m      7\u001b[0m x \u001b[39m=\u001b[39m Gizmo()\n\u001b[0;32m----> 8\u001b[0m y \u001b[39m=\u001b[39m Gizmo() \u001b[39m*\u001b[39;49m \u001b[39m10\u001b[39;49m\n\u001b[1;32m      9\u001b[0m \u001b[39m# dir()\u001b[39;00m\n",
      "\u001b[0;31mTypeError\u001b[0m: unsupported operand type(s) for *: 'Gizmo' and 'int'"
     ]
    }
   ],
   "source": [
    "# Variáveis são atribuídas a objetos somente depois que os objetos são criados\n",
    "\n",
    "class Gizmo:\n",
    "  def __init__(self):\n",
    "    print('Gizmo id: %d' % id(self))\n",
    "\n",
    "x = Gizmo()\n",
    "y = Gizmo() * 10\n",
    "# dir()"
   ]
  },
  {
   "attachments": {},
   "cell_type": "markdown",
   "metadata": {},
   "source": [
    "## Identidade, igualdade e apelidos"
   ]
  },
  {
   "cell_type": "code",
   "execution_count": 14,
   "metadata": {},
   "outputs": [
    {
     "data": {
      "text/plain": [
       "{'name': 'Charles L. Dodgson', 'born': 1832, 'balance': 950}"
      ]
     },
     "execution_count": 14,
     "metadata": {},
     "output_type": "execute_result"
    }
   ],
   "source": [
    "# charles e lewis se referem ao mesmo objeto\n",
    "\n",
    "charles = {'name': 'Charles L. Dodgson', 'born': 1832}\n",
    "lewis = charles\n",
    "\n",
    "lewis is charles\n",
    "id(charles), id(lewis)\n",
    "lewis['balance'] = 950\n",
    "charles"
   ]
  },
  {
   "cell_type": "code",
   "execution_count": 18,
   "metadata": {},
   "outputs": [
    {
     "data": {
      "text/plain": [
       "True"
      ]
     },
     "execution_count": 18,
     "metadata": {},
     "output_type": "execute_result"
    }
   ],
   "source": [
    "# alex e charles são comparados como iguais, mas alex nào é charles\n",
    "alex = {'name': 'Charles L. Dodgson', 'born': 1832, 'balance': 950}\n",
    "\n",
    "alex == charles\n",
    "alex is not charles"
   ]
  },
  {
   "attachments": {},
   "cell_type": "markdown",
   "metadata": {},
   "source": [
    "## Escolhendo entre `==` e `is`"
   ]
  },
  {
   "attachments": {},
   "cell_type": "markdown",
   "metadata": {},
   "source": [
    "O operador `=` compara valores de objetos (os dados que eles armazenam), enquanto `is` compara suas identidades."
   ]
  },
  {
   "attachments": {},
   "cell_type": "markdown",
   "metadata": {},
   "source": [
    "## A relativa imutabilidade das tuplas"
   ]
  },
  {
   "cell_type": "code",
   "execution_count": 24,
   "metadata": {},
   "outputs": [
    {
     "data": {
      "text/plain": [
       "False"
      ]
     },
     "execution_count": 24,
     "metadata": {},
     "output_type": "execute_result"
    }
   ],
   "source": [
    "## t1 e t2 inicialmente são comparados como iguais, mas alterar um item mutável da tupla t1 a torna diferente\n",
    "\n",
    "t1 = (1, 2, [30, 40])\n",
    "t2 = (1, 2, [30, 40])\n",
    "\n",
    "t1 == t2\n",
    "id(t1[-1])\n",
    "t1[-1].append(99)\n",
    "t1\n",
    "id(t1[-1])\n",
    "t1 == t2"
   ]
  },
  {
   "attachments": {},
   "cell_type": "markdown",
   "metadata": {},
   "source": [
    "## Cópias são rasas por padrão"
   ]
  },
  {
   "cell_type": "code",
   "execution_count": 29,
   "metadata": {},
   "outputs": [
    {
     "name": "stdout",
     "output_type": "stream",
     "text": [
      "l1: [3, [66, 44], (7, 8, 9), 100]\n",
      "l2: [3, [66, 44], (7, 8, 9)]\n",
      "l1: [3, [66, 44, 33, 22], (7, 8, 9), 100]\n",
      "l2: [3, [66, 44, 33, 22], (7, 8, 9, 10, 11)]\n"
     ]
    }
   ],
   "source": [
    "# Fazendo uma cópia rasa de uma lista que contém outra lista; copie e cole este código para ver sua animação em Online Python Tutor\n",
    "\n",
    "l1 = [3, [66, 55, 44], (7, 8, 9)]\n",
    "l2 = list(l1)\n",
    "\n",
    "l1.append(100)\n",
    "l1[1].remove(55)\n",
    "print('l1:', l1)\n",
    "print('l2:', l2)\n",
    "\n",
    "l2[1] += [33, 22]\n",
    "l2[2] += (10, 11)\n",
    "print('l1:', l1)\n",
    "print('l2:', l2)"
   ]
  },
  {
   "attachments": {},
   "cell_type": "markdown",
   "metadata": {},
   "source": [
    "## Cópias profundas e rasas de objetos quaisquer"
   ]
  },
  {
   "cell_type": "code",
   "execution_count": 32,
   "metadata": {},
   "outputs": [],
   "source": [
    "# Bus pega e deixa passageiros\n",
    "\n",
    "class Bus:\n",
    "  def __init__ (self, passengers=None):\n",
    "    if passengers is None:\n",
    "      self.passengers = []\n",
    "    else:\n",
    "      self.passengers = list(passengers)\n",
    "  \n",
    "  def pick(self, name):\n",
    "    self.passengers.append(name)\n",
    "  \n",
    "  def drop(self, name):\n",
    "    self.passengers.remove(name)"
   ]
  },
  {
   "cell_type": "code",
   "execution_count": 42,
   "metadata": {},
   "outputs": [
    {
     "data": {
      "text/plain": [
       "['Alice', 'Bill', 'Claire', 'David']"
      ]
     },
     "execution_count": 42,
     "metadata": {},
     "output_type": "execute_result"
    }
   ],
   "source": [
    "# Efeitos do uso de copy versus deepcopy\n",
    "\n",
    "import copy\n",
    "\n",
    "bus1 = Bus(['Alice', 'Bill', 'Claire', 'David'])\n",
    "bus2 = copy.copy(bus1)\n",
    "bus3 = copy.deepcopy(bus1)\n",
    "\n",
    "id(bus1), id(bus2), id(bus3)\n",
    "bus1.drop('Bill')\n",
    "bus2.passengers\n",
    "id(bus1.passengers), id(bus2.passengers), id(bus3.passengers)\n",
    "bus3.passengers"
   ]
  },
  {
   "cell_type": "code",
   "execution_count": 44,
   "metadata": {},
   "outputs": [
    {
     "data": {
      "text/plain": [
       "[10, 20, [[...], 30]]"
      ]
     },
     "execution_count": 44,
     "metadata": {},
     "output_type": "execute_result"
    }
   ],
   "source": [
    "# Referências cíclicas: b referencia a e, em seguida, é concatenado a a; deepcopy ainda é capaz de copiar a\n",
    "\n",
    "from copy import deepcopy\n",
    "\n",
    "a = [10, 20]\n",
    "b = [a, 30]\n",
    "a.append(b)\n",
    "a\n",
    "c = deepcopy (a)\n",
    "c"
   ]
  },
  {
   "attachments": {},
   "cell_type": "markdown",
   "metadata": {},
   "source": [
    "## Parâmetros de função como referências"
   ]
  },
  {
   "cell_type": "code",
   "execution_count": 57,
   "metadata": {},
   "outputs": [
    {
     "data": {
      "text/plain": [
       "((10, 20), (30, 40))"
      ]
     },
     "execution_count": 57,
     "metadata": {},
     "output_type": "execute_result"
    }
   ],
   "source": [
    "# Uma função pode alterar qualquer objeto mutável que ela receber\n",
    "\n",
    "def f(a, b):\n",
    "  a += b\n",
    "  return a\n",
    "\n",
    "x = 1\n",
    "y = 2\n",
    "f(x, y)\n",
    "x, y\n",
    "\n",
    "a = [1, 2]\n",
    "b = [3, 4]\n",
    "f(a, b)\n",
    "a, b\n",
    "\n",
    "t = (10, 20)\n",
    "u = (30, 40)\n",
    "f(t, u)\n",
    "t, u"
   ]
  },
  {
   "attachments": {},
   "cell_type": "markdown",
   "metadata": {},
   "source": [
    "## Tipos mutáveis como default de parâmetros: péssima ideia"
   ]
  },
  {
   "cell_type": "code",
   "execution_count": 59,
   "metadata": {},
   "outputs": [],
   "source": [
    "# Uma classe simples para ilustrar o perigo de um default mutável\n",
    "\n",
    "class HauntedBus:\n",
    "  \"\"\"Um modelo de ônibus assombrado por passageiros fantasmas\"\"\"\n",
    "  def __init__(self, passengers=[]):\n",
    "    self.passengers = passengers\n",
    "  \n",
    "  def pick(self, name):\n",
    "    self.passengers.append(name)\n",
    "  \n",
    "  def drop(self, name):\n",
    "    self.passengers.remove(name)"
   ]
  },
  {
   "cell_type": "code",
   "execution_count": 60,
   "metadata": {},
   "outputs": [
    {
     "data": {
      "text/plain": [
       "['Bill', 'Charlie']"
      ]
     },
     "execution_count": 60,
     "metadata": {},
     "output_type": "execute_result"
    }
   ],
   "source": [
    "# ônibus assombrados por passageiros fantasmas\n",
    "bus1 = HauntedBus(['Alice', 'Bill'])\n",
    "bus1.passengers\n",
    "bus1.pick('Charlie')\n",
    "bus1.drop('Alice')\n",
    "bus1.passengers\n",
    "\n",
    "bus2 = HauntedBus()\n",
    "bus2.pick('Carrie')\n",
    "bus2.passengers\n",
    "\n",
    "bus3 = HauntedBus()\n",
    "bus3.passengers\n",
    "bus3.pick('Dave')\n",
    "\n",
    "bus2.passengers\n",
    "bus2.passengers is bus3.passengers\n",
    "bus1.passengers"
   ]
  },
  {
   "attachments": {},
   "cell_type": "markdown",
   "metadata": {},
   "source": [
    "## Programação defensiva com parâmetros mutáveis"
   ]
  },
  {
   "cell_type": "code",
   "execution_count": 62,
   "metadata": {},
   "outputs": [],
   "source": [
    "# Uma classe simples que mostra os perigos de alterar argumentos recebidos\n",
    "\n",
    "class TwilightBus:\n",
    "  \"\"\"Um modelo de ônibus que faz os passageiros desaparecerem\"\"\"\n",
    "  def __init__ (self, passengers=None):\n",
    "    if passengers is None:\n",
    "      self.passengers = []\n",
    "    else:\n",
    "      self.passengers = list(passengers)\n",
    "  \n",
    "  def pick(self, name):\n",
    "    self.passengers.append(name)\n",
    "  \n",
    "  def drop(self, name):\n",
    "    self.passengers.remove(name)"
   ]
  },
  {
   "attachments": {},
   "cell_type": "markdown",
   "metadata": {},
   "source": [
    "## `del` e coleta de lixo"
   ]
  },
  {
   "cell_type": "code",
   "execution_count": 71,
   "metadata": {},
   "outputs": [
    {
     "name": "stdout",
     "output_type": "stream",
     "text": [
      "Gone with the wind...\n"
     ]
    },
    {
     "data": {
      "text/plain": [
       "False"
      ]
     },
     "execution_count": 71,
     "metadata": {},
     "output_type": "execute_result"
    }
   ],
   "source": [
    "# Observando o fim de um objeto quando não há mais referências a ele\n",
    "import weakref\n",
    "\n",
    "s1 = {1, 2, 3}\n",
    "s2 = s1\n",
    "\n",
    "def bye():\n",
    "  print('Gone with the wind...')\n",
    "\n",
    "ender = weakref.finalize(s1, bye)\n",
    "ender.alive\n",
    "del s1\n",
    "ender.alive\n",
    "s2 = 'spam'\n",
    "ender.alive"
   ]
  },
  {
   "attachments": {},
   "cell_type": "markdown",
   "metadata": {},
   "source": [
    "## Referências fracas"
   ]
  },
  {
   "cell_type": "code",
   "execution_count": 23,
   "metadata": {},
   "outputs": [
    {
     "data": {
      "text/plain": [
       "True"
      ]
     },
     "execution_count": 23,
     "metadata": {},
     "output_type": "execute_result"
    }
   ],
   "source": [
    "# Uma referência fraca é um invocável que devolve o objeto referenciado ou None se o referente não existir\n",
    "import weakref\n",
    "\n",
    "a_set = {0, 1}\n",
    "wref = weakref.ref(a_set)\n",
    "wref\n",
    "wref()\n",
    "a_set = {2,3,4}\n",
    "wref()\n",
    "wref() is None\n",
    "wref() is None"
   ]
  },
  {
   "attachments": {},
   "cell_type": "markdown",
   "metadata": {},
   "source": [
    "## Esquete com WeakValueDictionary"
   ]
  },
  {
   "cell_type": "code",
   "execution_count": 24,
   "metadata": {},
   "outputs": [],
   "source": [
    "# Cheese tem um atributo kind e uma representação-padrão\n",
    "\n",
    "class Cheese:  \n",
    "  def __init__(self, kind):\n",
    "    self.kind = kind\n",
    "  \n",
    "  def __repr__(self):\n",
    "    return 'Cheese(%r)' % self.kind"
   ]
  },
  {
   "cell_type": "code",
   "execution_count": 30,
   "metadata": {},
   "outputs": [
    {
     "data": {
      "text/plain": [
       "[]"
      ]
     },
     "execution_count": 30,
     "metadata": {},
     "output_type": "execute_result"
    }
   ],
   "source": [
    "# Cliente: \"Afinal de contas, você tem algum tipo de queijo aqui?\"\n",
    "\n",
    "import weakref\n",
    "\n",
    "stock = weakref.WeakValueDictionary()\n",
    "catalog = [Cheese('Red Leicester'), Cheese('Tilsit'), Cheese('Brie'), Cheese('Parmesan')]\n",
    "\n",
    "for cheese in catalog:\n",
    "  stock[cheese.kind] = cheese\n",
    "\n",
    "sorted(stock.keys())\n",
    "del catalog\n",
    "sorted(stock.keys())\n",
    "del cheese\n",
    "sorted(stock.keys())"
   ]
  },
  {
   "attachments": {},
   "cell_type": "markdown",
   "metadata": {},
   "source": [
    "## Limitações das referências fracas"
   ]
  },
  {
   "attachments": {},
   "cell_type": "markdown",
   "metadata": {},
   "source": [
    "Nem todo objeto Python pode ser o alvo - ou o referente - de uma referência fraca.\n",
    "Instâncias de list e dict básicos não podem ser referentes, mas uma subclasse simples\n",
    "de qualquer um deles pode resolver esse problema facilmente:"
   ]
  },
  {
   "cell_type": "code",
   "execution_count": 33,
   "metadata": {},
   "outputs": [],
   "source": [
    "class MyList(list):\n",
    "  \"\"\"subclasse de list cujas instâncias podem ter referências fracas\"\"\"\n",
    "\n",
    "a_list = MyList(range(10))\n",
    "# a_list pode ser alvo de uma referência fraca, uma list básico não\n",
    "# wref_to_a_list = weakref.ref([])\n",
    "wref_to_a_list = weakref.ref(a_list)"
   ]
  },
  {
   "cell_type": "code",
   "execution_count": 35,
   "metadata": {},
   "outputs": [
    {
     "data": {
      "text/plain": [
       "True"
      ]
     },
     "execution_count": 35,
     "metadata": {},
     "output_type": "execute_result"
    }
   ],
   "source": [
    "# Uma tupla criada a partir de outra, na verdade, é exatamente a mesma tupla\n",
    "t1 = (1, 2, 3)\n",
    "t2 = tuple(t1)\n",
    "t2 is t1\n",
    "\n",
    "t3 = t1[:]\n",
    "t3 is t1"
   ]
  },
  {
   "cell_type": "code",
   "execution_count": 41,
   "metadata": {},
   "outputs": [
    {
     "data": {
      "text/plain": [
       "True"
      ]
     },
     "execution_count": 41,
     "metadata": {},
     "output_type": "execute_result"
    }
   ],
   "source": [
    "# Strings literais podem criar objetos compartilhados\n",
    "t1 = (1, 2, 3)\n",
    "t3 = (1, 2, 3)\n",
    "t3 is t1\n",
    "\n",
    "s1 = 'ABC'\n",
    "s2 = 'ABC'\n",
    "s2 is s1"
   ]
  }
 ],
 "metadata": {
  "kernelspec": {
   "display_name": "Python 3",
   "language": "python",
   "name": "python3"
  },
  "language_info": {
   "codemirror_mode": {
    "name": "ipython",
    "version": 3
   },
   "file_extension": ".py",
   "mimetype": "text/x-python",
   "name": "python",
   "nbconvert_exporter": "python",
   "pygments_lexer": "ipython3",
   "version": "3.8.10"
  },
  "orig_nbformat": 4,
  "vscode": {
   "interpreter": {
    "hash": "31f2aee4e71d21fbe5cf8b01ff0e069b9275f58929596ceb00d14d90e3e16cd6"
   }
  }
 },
 "nbformat": 4,
 "nbformat_minor": 2
}
