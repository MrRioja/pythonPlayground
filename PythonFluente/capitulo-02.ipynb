{
 "cells": [
  {
   "cell_type": "markdown",
   "metadata": {},
   "source": [
    "# Capitulo 2"
   ]
  },
  {
   "cell_type": "markdown",
   "metadata": {},
   "source": [
    "## Uma coleção de sequências\n",
    "\n",
    "- Sequências container: `list`, `tuple` e `collections.deque` podem armazenar itens de tipos diferentes e guarda somente a referencia dos objetos que ela contêm.\n",
    "\n",
    "- Sequências simples: `str`, `bytes`, `bytearray`, `memoryview` e `array.array` armazenam itens de um só tipo e armazena seus itens em seu próprio espaço de memória.\n",
    "\n",
    "- Sequências mutáveis: `list`, `bytearray`, `array.array`, `collections.deque` e `memoryview`.\n",
    "\n",
    "- Sequências imutáveis: `tuple`, `str` e `bytes`."
   ]
  },
  {
   "cell_type": "markdown",
   "metadata": {},
   "source": [
    "##  List comprehensions e expressões geradoras"
   ]
  },
  {
   "cell_type": "markdown",
   "metadata": {},
   "source": [
    "### List comprehensions e legibilidade\n",
    "\n",
    "Qual dos exemplos abaixo é mais difícil de ler:"
   ]
  },
  {
   "cell_type": "code",
   "execution_count": 12,
   "metadata": {},
   "outputs": [
    {
     "data": {
      "text/plain": [
       "[36, 162, 163, 165, 8364, 164]"
      ]
     },
     "execution_count": 12,
     "metadata": {},
     "output_type": "execute_result"
    }
   ],
   "source": [
    "# 1 - Criar uma lista de códigos Unicode (codepoints) a partir de uma string\n",
    "\n",
    "symbols = '$¢£¥€¤'\n",
    "codes = []\n",
    "\n",
    "for symbol in symbols:\n",
    "  codes.append(ord(symbol))\n",
    "\n",
    "codes"
   ]
  },
  {
   "cell_type": "code",
   "execution_count": 13,
   "metadata": {},
   "outputs": [
    {
     "data": {
      "text/plain": [
       "[36, 162, 163, 165, 8364, 164]"
      ]
     },
     "execution_count": 13,
     "metadata": {},
     "output_type": "execute_result"
    }
   ],
   "source": [
    "# 2 - Cria uma lista de códigos Unicode (codepoints) a partir de uma string\n",
    "symbols = '$¢£¥€¤'\n",
    "codes = [ord(symbol) for symbol in symbols]\n",
    "codes"
   ]
  },
  {
   "cell_type": "markdown",
   "metadata": {},
   "source": [
    "### Comparação entre listcomps e map/filter"
   ]
  },
  {
   "cell_type": "code",
   "execution_count": 16,
   "metadata": {},
   "outputs": [
    {
     "data": {
      "text/plain": [
       "[162, 163, 165, 8364, 164]"
      ]
     },
     "execution_count": 16,
     "metadata": {},
     "output_type": "execute_result"
    }
   ],
   "source": [
    "# A mesma lista criada por uma listecomp e uma composição de map/filter\n",
    "symbols = '$¢£¥€¤'\n",
    "\n",
    "beyond_ascii_1 = [ord(s) for s in symbols if ord(s) > 127]\n",
    "beyond_ascii_2 = list(filter(lambda c: c > 127, map(ord, symbols)))\n",
    "\n",
    "beyond_ascii_1\n",
    "# beyond_ascii_2"
   ]
  },
  {
   "cell_type": "markdown",
   "metadata": {},
   "source": [
    "### Produtos cartesianos"
   ]
  }
 ],
 "metadata": {
  "kernelspec": {
   "display_name": "Python 3.8.10 64-bit",
   "language": "python",
   "name": "python3"
  },
  "language_info": {
   "codemirror_mode": {
    "name": "ipython",
    "version": 3
   },
   "file_extension": ".py",
   "mimetype": "text/x-python",
   "name": "python",
   "nbconvert_exporter": "python",
   "pygments_lexer": "ipython3",
   "version": "3.8.10"
  },
  "orig_nbformat": 4,
  "vscode": {
   "interpreter": {
    "hash": "31f2aee4e71d21fbe5cf8b01ff0e069b9275f58929596ceb00d14d90e3e16cd6"
   }
  }
 },
 "nbformat": 4,
 "nbformat_minor": 2
}
