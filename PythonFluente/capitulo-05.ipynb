{
 "cells": [
  {
   "attachments": {},
   "cell_type": "markdown",
   "metadata": {},
   "source": [
    "# Capitulo 5 - Funções de primeira classe"
   ]
  },
  {
   "attachments": {},
   "cell_type": "markdown",
   "metadata": {},
   "source": [
    "## Tratando uma função como um objeto"
   ]
  },
  {
   "attachments": {},
   "cell_type": "markdown",
   "metadata": {},
   "source": [
    "Funções em Python são objetos de primeira classe. Os teóricos das linguagens de pro­\n",
    "gramação definem um “objeto de primeira classe” como uma entidade que pode ser:\n",
    "- Criada em tempo de execução;\n",
    "- Atribuída a uma variável ou a um elemento em uma estrutura de dados;\n",
    "- Passada como argumento a uma função;\n",
    "- Devolvida como resultado de uma função."
   ]
  },
  {
   "cell_type": "code",
   "execution_count": 5,
   "metadata": {},
   "outputs": [
    {
     "data": {
      "text/plain": [
       "function"
      ]
     },
     "execution_count": 5,
     "metadata": {},
     "output_type": "execute_result"
    }
   ],
   "source": [
    "# Cria e testa uma função. Em seguida, lê seu __doc__ e verifica seu tipo\n",
    "\n",
    "def factorial(n):\n",
    "  '''returns n!'''\n",
    "  return 1 if n < 2 else n * factorial(n-1)\n",
    "\n",
    "factorial(42)\n",
    "\n",
    "factorial.__doc__\n",
    "\n",
    "type(factorial)"
   ]
  },
  {
   "cell_type": "code",
   "execution_count": 11,
   "metadata": {},
   "outputs": [
    {
     "data": {
      "text/plain": [
       "[1, 1, 2, 6, 24, 120, 720, 5040, 40320, 362880, 3628800]"
      ]
     },
     "execution_count": 11,
     "metadata": {},
     "output_type": "execute_result"
    }
   ],
   "source": [
    "# Usar uma função com um nome diferente e passar a função como argumento\n",
    "\n",
    "fact = factorial\n",
    "\n",
    "fact\n",
    "\n",
    "fact(5)\n",
    "\n",
    "map(factorial, range(11))\n",
    "\n",
    "list(map(fact, range(11)))"
   ]
  },
  {
   "attachments": {},
   "cell_type": "markdown",
   "metadata": {},
   "source": [
    "## Funções de ordem superior"
   ]
  },
  {
   "attachments": {},
   "cell_type": "markdown",
   "metadata": {},
   "source": [
    "Uma função que aceita uma função como argumento ou que devolve uma função como\n",
    "resultado é uma função de ordem superior (higher-order function)."
   ]
  },
  {
   "cell_type": "code",
   "execution_count": 21,
   "metadata": {},
   "outputs": [
    {
     "data": {
      "text/plain": [
       "['fig', 'apple', 'cherry', 'banana', 'raspberry', 'strawberry']"
      ]
     },
     "execution_count": 21,
     "metadata": {},
     "output_type": "execute_result"
    }
   ],
   "source": [
    "# Ordenando uma lista de palavras de acordo com o tamanho\n",
    "\n",
    "fruits = ['strawberry', 'fig', 'apple', 'cherry', 'raspberry', 'banana']\n",
    "sorted(fruits, key=len)"
   ]
  },
  {
   "cell_type": "code",
   "execution_count": 22,
   "metadata": {},
   "outputs": [
    {
     "data": {
      "text/plain": [
       "['banana', 'apple', 'fig', 'raspberry', 'strawberry', 'cherry']"
      ]
     },
     "execution_count": 22,
     "metadata": {},
     "output_type": "execute_result"
    }
   ],
   "source": [
    "# Ordenando uma lista de palavras de acordo com a sua grafia inversa\n",
    "def reverse(word):\n",
    "  return word[::-1]\n",
    "\n",
    "reverse('testing')\n",
    "\n",
    "sorted(fruits, key=reverse)"
   ]
  }
 ],
 "metadata": {
  "kernelspec": {
   "display_name": "Python 3",
   "language": "python",
   "name": "python3"
  },
  "language_info": {
   "codemirror_mode": {
    "name": "ipython",
    "version": 3
   },
   "file_extension": ".py",
   "mimetype": "text/x-python",
   "name": "python",
   "nbconvert_exporter": "python",
   "pygments_lexer": "ipython3",
   "version": "3.8.10"
  },
  "orig_nbformat": 4,
  "vscode": {
   "interpreter": {
    "hash": "31f2aee4e71d21fbe5cf8b01ff0e069b9275f58929596ceb00d14d90e3e16cd6"
   }
  }
 },
 "nbformat": 4,
 "nbformat_minor": 2
}
