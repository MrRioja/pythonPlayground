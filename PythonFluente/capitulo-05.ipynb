{
 "cells": [
  {
   "attachments": {},
   "cell_type": "markdown",
   "metadata": {},
   "source": [
    "# Capitulo 5 - Funções de primeira classe"
   ]
  },
  {
   "attachments": {},
   "cell_type": "markdown",
   "metadata": {},
   "source": [
    "## Tratando uma função como um objeto"
   ]
  },
  {
   "attachments": {},
   "cell_type": "markdown",
   "metadata": {},
   "source": [
    "Funções em Python são objetos de primeira classe. Os teóricos das linguagens de pro­\n",
    "gramação definem um “objeto de primeira classe” como uma entidade que pode ser:\n",
    "- Criada em tempo de execução;\n",
    "- Atribuída a uma variável ou a um elemento em uma estrutura de dados;\n",
    "- Passada como argumento a uma função;\n",
    "- Devolvida como resultado de uma função."
   ]
  },
  {
   "cell_type": "code",
   "execution_count": 19,
   "metadata": {},
   "outputs": [
    {
     "data": {
      "text/plain": [
       "function"
      ]
     },
     "execution_count": 19,
     "metadata": {},
     "output_type": "execute_result"
    }
   ],
   "source": [
    "# Cria e testa uma função. Em seguida, lê seu __doc__ e verifica seu tipo\n",
    "\n",
    "def factorial(n):\n",
    "  '''returns n!'''\n",
    "  return 1 if n < 2 else n * factorial(n-1)\n",
    "\n",
    "factorial(42)\n",
    "\n",
    "factorial.__doc__\n",
    "\n",
    "type(factorial)"
   ]
  },
  {
   "cell_type": "code",
   "execution_count": 20,
   "metadata": {},
   "outputs": [
    {
     "data": {
      "text/plain": [
       "[1, 1, 2, 6, 24, 120, 720, 5040, 40320, 362880, 3628800]"
      ]
     },
     "execution_count": 20,
     "metadata": {},
     "output_type": "execute_result"
    }
   ],
   "source": [
    "# Usar uma função com um nome diferente e passar a função como argumento\n",
    "\n",
    "fact = factorial\n",
    "\n",
    "fact\n",
    "\n",
    "fact(5)\n",
    "\n",
    "map(factorial, range(11))\n",
    "\n",
    "list(map(fact, range(11)))"
   ]
  },
  {
   "attachments": {},
   "cell_type": "markdown",
   "metadata": {},
   "source": [
    "## Funções de ordem superior"
   ]
  },
  {
   "attachments": {},
   "cell_type": "markdown",
   "metadata": {},
   "source": [
    "Uma função que aceita uma função como argumento ou que devolve uma função como\n",
    "resultado é uma função de ordem superior (higher-order function)."
   ]
  },
  {
   "cell_type": "code",
   "execution_count": 21,
   "metadata": {},
   "outputs": [
    {
     "data": {
      "text/plain": [
       "['fig', 'apple', 'cherry', 'banana', 'raspberry', 'strawberry']"
      ]
     },
     "execution_count": 21,
     "metadata": {},
     "output_type": "execute_result"
    }
   ],
   "source": [
    "# Ordenando uma lista de palavras de acordo com o tamanho\n",
    "\n",
    "fruits = ['strawberry', 'fig', 'apple', 'cherry', 'raspberry', 'banana']\n",
    "sorted(fruits, key=len)"
   ]
  },
  {
   "cell_type": "code",
   "execution_count": 22,
   "metadata": {},
   "outputs": [
    {
     "data": {
      "text/plain": [
       "['banana', 'apple', 'fig', 'raspberry', 'strawberry', 'cherry']"
      ]
     },
     "execution_count": 22,
     "metadata": {},
     "output_type": "execute_result"
    }
   ],
   "source": [
    "# Ordenando uma lista de palavras de acordo com a sua grafia inversa\n",
    "def reverse(word):\n",
    "  return word[::-1]\n",
    "\n",
    "reverse('testing')\n",
    "\n",
    "sorted(fruits, key=reverse)"
   ]
  },
  {
   "attachments": {},
   "cell_type": "markdown",
   "metadata": {},
   "source": [
    "## Substitutos modernos para map, filter e reduce"
   ]
  },
  {
   "cell_type": "code",
   "execution_count": 23,
   "metadata": {},
   "outputs": [
    {
     "data": {
      "text/plain": [
       "[1, 6, 120]"
      ]
     },
     "execution_count": 23,
     "metadata": {},
     "output_type": "execute_result"
    }
   ],
   "source": [
    "# Lista de fatoriais gerada com map e filter, em comparação com alternativas escritas com list comprehensions\n",
    "\n",
    "list(map(fact, range(6)))\n",
    "\n",
    "[fact(n) for n in range(6)]\n",
    "\n",
    "list(map(factorial, filter(lambda n: n % 2, range(6))))\n",
    "\n",
    "[factorial(n) for n in range(6) if n % 2]"
   ]
  },
  {
   "cell_type": "code",
   "execution_count": 24,
   "metadata": {},
   "outputs": [
    {
     "data": {
      "text/plain": [
       "4950"
      ]
     },
     "execution_count": 24,
     "metadata": {},
     "output_type": "execute_result"
    }
   ],
   "source": [
    "# Soma de inteiros até 99 realizada com reduce e sum\n",
    "\n",
    "from functools import reduce\n",
    "from operator import add\n",
    "\n",
    "reduce(add, range(100))\n",
    "\n",
    "sum(range(100))"
   ]
  },
  {
   "attachments": {},
   "cell_type": "markdown",
   "metadata": {},
   "source": [
    "## Funções anônimas"
   ]
  },
  {
   "cell_type": "code",
   "execution_count": 25,
   "metadata": {},
   "outputs": [
    {
     "data": {
      "text/plain": [
       "['banana', 'apple', 'fig', 'raspberry', 'strawberry', 'cherry']"
      ]
     },
     "execution_count": 25,
     "metadata": {},
     "output_type": "execute_result"
    }
   ],
   "source": [
    "# Ordenando uma lista de palavras de acordo com as grafias inversas usando lambda\n",
    "\n",
    "fruits = ['strawberry', 'fig', 'apple', 'cherry', 'raspberry', 'banana']\n",
    "sorted(fruits, key=lambda word: word[::-1])"
   ]
  },
  {
   "attachments": {},
   "cell_type": "markdown",
   "metadata": {},
   "source": [
    "## Tipos invocáveis definidos pelo usuário"
   ]
  },
  {
   "cell_type": "code",
   "execution_count": 26,
   "metadata": {},
   "outputs": [],
   "source": [
    "# Um BingoCage realiza uma única tarefa - seleciona itens de uma lista embaralhada\n",
    "\n",
    "import random\n",
    "\n",
    "class BingoCage:\n",
    "  def __init__(self, itens):\n",
    "    self._itens = list(itens)\n",
    "    random.shuffle(self._itens)\n",
    "  \n",
    "  def pick(self):\n",
    "    try:\n",
    "      return self._itens.pop()\n",
    "    except IndexError:\n",
    "      raise LookupError('pick from empty BingoCage')\n",
    "  \n",
    "  def __call__(self):\n",
    "    return self.pick()"
   ]
  },
  {
   "cell_type": "code",
   "execution_count": 27,
   "metadata": {},
   "outputs": [
    {
     "data": {
      "text/plain": [
       "True"
      ]
     },
     "execution_count": 27,
     "metadata": {},
     "output_type": "execute_result"
    }
   ],
   "source": [
    "bingo = BingoCage(range(3))\n",
    "\n",
    "bingo.pick()\n",
    "\n",
    "bingo()\n",
    "\n",
    "callable(bingo)"
   ]
  },
  {
   "attachments": {},
   "cell_type": "markdown",
   "metadata": {},
   "source": [
    "## Introspecção de função"
   ]
  },
  {
   "cell_type": "code",
   "execution_count": 29,
   "metadata": {},
   "outputs": [
    {
     "data": {
      "text/plain": [
       "['__annotations__',\n",
       " '__call__',\n",
       " '__class__',\n",
       " '__closure__',\n",
       " '__code__',\n",
       " '__defaults__',\n",
       " '__delattr__',\n",
       " '__dict__',\n",
       " '__dir__',\n",
       " '__doc__',\n",
       " '__eq__',\n",
       " '__format__',\n",
       " '__ge__',\n",
       " '__get__',\n",
       " '__getattribute__',\n",
       " '__globals__',\n",
       " '__gt__',\n",
       " '__hash__',\n",
       " '__init__',\n",
       " '__init_subclass__',\n",
       " '__kwdefaults__',\n",
       " '__le__',\n",
       " '__lt__',\n",
       " '__module__',\n",
       " '__name__',\n",
       " '__ne__',\n",
       " '__new__',\n",
       " '__qualname__',\n",
       " '__reduce__',\n",
       " '__reduce_ex__',\n",
       " '__repr__',\n",
       " '__setattr__',\n",
       " '__sizeof__',\n",
       " '__str__',\n",
       " '__subclasshook__']"
      ]
     },
     "execution_count": 29,
     "metadata": {},
     "output_type": "execute_result"
    }
   ],
   "source": [
    "# Os objetos-função têm diversos atributos, conforme abaixo\n",
    "\n",
    "dir(factorial)"
   ]
  },
  {
   "cell_type": "code",
   "execution_count": 30,
   "metadata": {},
   "outputs": [
    {
     "data": {
      "text/plain": [
       "['__annotations__',\n",
       " '__call__',\n",
       " '__closure__',\n",
       " '__code__',\n",
       " '__defaults__',\n",
       " '__get__',\n",
       " '__globals__',\n",
       " '__kwdefaults__',\n",
       " '__name__',\n",
       " '__qualname__']"
      ]
     },
     "execution_count": 30,
     "metadata": {},
     "output_type": "execute_result"
    }
   ],
   "source": [
    "# Listando os atributos de funções que não existem em instâncias simples\n",
    "\n",
    "class C: pass\n",
    "\n",
    "obj = C()\n",
    "\n",
    "def func(): pass\n",
    "\n",
    "sorted(set(dir(func)) - set(dir(obj)))"
   ]
  },
  {
   "attachments": {},
   "cell_type": "markdown",
   "metadata": {},
   "source": [
    "## De parâmetros posicionais a parâmetros exclusivamente nomeados"
   ]
  },
  {
   "cell_type": "code",
   "execution_count": 31,
   "metadata": {},
   "outputs": [],
   "source": [
    "# A função tag gera HTML; um argumento ds exclusivamente nomeado é usado para passar atributos \"class\"\n",
    "# como uma solução alternativa, pois class é uma palavra reservada em Python\n",
    "\n",
    "\n",
    "def tag(name, *content, cls=None, **attrs):\n",
    "  \"\"\"Gera uma ou mais tags HTML\"\"\"\n",
    "  \n",
    "  if cls is not None:\n",
    "    attrs['class'] = cls\n",
    "  if attrs:\n",
    "    attr_str = ''.join(' %s=\"%s\"' % (attr, value)\n",
    "                      for attr, value\n",
    "                      in sorted(attrs.items()))\n",
    "  else:\n",
    "    attr_str = ''\n",
    "  \n",
    "  if content:\n",
    "    return '\\n'.join('<%s%s>%s</%s>' %\n",
    "                      (name, attr_str, c, name) for c in content)\n",
    "  else:\n",
    "    return '<%s%s />' % (name, attr_str)"
   ]
  },
  {
   "cell_type": "code",
   "execution_count": 41,
   "metadata": {},
   "outputs": [
    {
     "name": "stdout",
     "output_type": "stream",
     "text": [
      "<p>hello</p>\n",
      "<p>world</p>\n",
      "<p class=\"sidebar\">hello</p>\n",
      "<p class=\"sidebar\">world</p>\n"
     ]
    },
    {
     "data": {
      "text/plain": [
       "'<img class=\"framed\" src=\"sunset.jpg\" title=\"Sunset Boulevard\" />'"
      ]
     },
     "execution_count": 41,
     "metadata": {},
     "output_type": "execute_result"
    }
   ],
   "source": [
    "# Algumas das várias maneiras de chamar a função tag do exemplo acima\n",
    "\n",
    "tag('br')\n",
    "\n",
    "tag('p', 'hello')\n",
    "\n",
    "print(tag('p', 'hello', 'world'))\n",
    "\n",
    "tag('p', 'hello', id=33)\n",
    "\n",
    "print(tag('p', 'hello', 'world', cls='sidebar'))\n",
    "\n",
    "tag(content='testing', name=\"img\")\n",
    "\n",
    "my_tag = {'name': 'img', 'title': 'Sunset Boulevard', 'src': 'sunset.jpg', 'cls': 'framed'}\n",
    "tag(**my_tag)"
   ]
  },
  {
   "cell_type": "code",
   "execution_count": 42,
   "metadata": {},
   "outputs": [
    {
     "data": {
      "text/plain": [
       "(1, 2)"
      ]
     },
     "execution_count": 42,
     "metadata": {},
     "output_type": "execute_result"
    }
   ],
   "source": [
    "def f(a, *, b):\n",
    "  return a, b\n",
    "\n",
    "f(1, b=2)"
   ]
  },
  {
   "attachments": {},
   "cell_type": "markdown",
   "metadata": {},
   "source": [
    "## Módulo operator"
   ]
  },
  {
   "cell_type": "code",
   "execution_count": 1,
   "metadata": {},
   "outputs": [],
   "source": [
    "# Fatorial implementado com reduce e uma função anônima\n",
    "\n",
    "from functools import reduce\n",
    "\n",
    "def fact(n):\n",
    "  return reduce(lambda a, b: a*b, range(1, n+1))"
   ]
  },
  {
   "cell_type": "code",
   "execution_count": 2,
   "metadata": {},
   "outputs": [],
   "source": [
    "# Fatorial implementado com reduce e operator.mul\n",
    "\n",
    "from functools import reduce\n",
    "from operator import mul\n",
    "\n",
    "def fact(n):\n",
    "  return reduce(mul, range(1, n+1))"
   ]
  },
  {
   "cell_type": "code",
   "execution_count": 3,
   "metadata": {},
   "outputs": [
    {
     "name": "stdout",
     "output_type": "stream",
     "text": [
      "('Sao Paulo', 'BR', 19.649, (-23.547778, -46.635833))\n",
      "('Delhi NCR', 'IN', 21.935, (28.613889, 77.208889))\n",
      "('Tokyo', 'JP', 36.933, (35.689722, 139.691667))\n",
      "('Mexico City', 'MX', 20.142, (19.433333, -99.133333))\n",
      "('New York-Newark', 'US', 20.104, (40.808611, -74.020386))\n"
     ]
    }
   ],
   "source": [
    "# Demo de itemgetter para ordenar uma lista de tuplas (dados do exemplo 2.8)\n",
    "\n",
    "from operator import itemgetter\n",
    "\n",
    "metro_data = [\n",
    "('Tokyo',\n",
    "'JP', 36.933, (35.689722, 139.691667)),\n",
    "('Delhi NCR', 'IN', 21.935, (28.613889, 77.208889)),\n",
    "('Mexico City',\n",
    "'MX', 20.142, (19.433333, -99.133333)),\n",
    "('New York-Newark', 'US', 20.104, (40.808611, -74.020386)),\n",
    "('Sao Paulo',\n",
    "'BR', 19.649, (-23.547778, -46.635833))]\n",
    "\n",
    "for city in sorted(metro_data, key=itemgetter(1)):\n",
    "  print(city)"
   ]
  },
  {
   "cell_type": "code",
   "execution_count": 4,
   "metadata": {},
   "outputs": [
    {
     "name": "stdout",
     "output_type": "stream",
     "text": [
      "('JP', 'Tokyo')\n",
      "('IN', 'Delhi NCR')\n",
      "('MX', 'Mexico City')\n",
      "('US', 'New York-Newark')\n",
      "('BR', 'Sao Paulo')\n"
     ]
    }
   ],
   "source": [
    "cc_name = itemgetter(1, 0)\n",
    "\n",
    "for city in metro_data:\n",
    "  print(cc_name(city))"
   ]
  },
  {
   "cell_type": "code",
   "execution_count": 9,
   "metadata": {},
   "outputs": [
    {
     "name": "stdout",
     "output_type": "stream",
     "text": [
      "('Sao Paulo', -23.547778)\n",
      "('Mexico City', 19.433333)\n",
      "('Delhi NCR', 28.613889)\n",
      "('Tokyo', 35.689722)\n",
      "('New York-Newark', 40.808611)\n"
     ]
    }
   ],
   "source": [
    "# Demo de attrgetter para processar uma lista previamente definida de namedtuple chamada metro_data\n",
    "\n",
    "from operator import attrgetter\n",
    "from collections import namedtuple\n",
    "\n",
    "LatLong = namedtuple('LatLong', 'lat long')\n",
    "Metropolis = namedtuple('Metropolis', 'name cc pop coord')\n",
    "\n",
    "metro_areas = [Metropolis(name, cc, pop, LatLong(lat, long))\n",
    "  for name, cc, pop, (lat, long) in metro_data\n",
    "]\n",
    "\n",
    "metro_areas[0]\n",
    "metro_areas[0].coord.lat\n",
    "\n",
    "name_lat = attrgetter('name', 'coord.lat')\n",
    "for city in sorted(metro_areas, key=attrgetter('coord.lat')):\n",
    "  print(name_lat(city))"
   ]
  },
  {
   "cell_type": "code",
   "execution_count": 14,
   "metadata": {},
   "outputs": [
    {
     "data": {
      "text/plain": [
       "'The-time-has-come'"
      ]
     },
     "execution_count": 14,
     "metadata": {},
     "output_type": "execute_result"
    }
   ],
   "source": [
    "# Demo de methodcaller: o segundo teste mostra a associação com argumentos extras\n",
    "\n",
    "from operator import methodcaller\n",
    "\n",
    "s = 'The time has come'\n",
    "upcase = methodcaller('upper')\n",
    "upcase(s)\n",
    "\n",
    "hyphenate = methodcaller('replace', ' ', '-')\n",
    "hyphenate(s)"
   ]
  }
 ],
 "metadata": {
  "kernelspec": {
   "display_name": "Python 3",
   "language": "python",
   "name": "python3"
  },
  "language_info": {
   "codemirror_mode": {
    "name": "ipython",
    "version": 3
   },
   "file_extension": ".py",
   "mimetype": "text/x-python",
   "name": "python",
   "nbconvert_exporter": "python",
   "pygments_lexer": "ipython3",
   "version": "3.8.10"
  },
  "orig_nbformat": 4,
  "vscode": {
   "interpreter": {
    "hash": "31f2aee4e71d21fbe5cf8b01ff0e069b9275f58929596ceb00d14d90e3e16cd6"
   }
  }
 },
 "nbformat": 4,
 "nbformat_minor": 2
}
