{
 "cells": [
  {
   "attachments": {},
   "cell_type": "markdown",
   "metadata": {},
   "source": [
    "# Capitulo 6 - Padrões de projeto com funções de primeira classe"
   ]
  },
  {
   "attachments": {},
   "cell_type": "markdown",
   "metadata": {},
   "source": [
    "## Strategy clássico"
   ]
  },
  {
   "attachments": {},
   "cell_type": "markdown",
   "metadata": {},
   "source": [
    "### Exemplo de implementação da classe Order com estratégias de desconto intercambiáveis"
   ]
  },
  {
   "cell_type": "code",
   "execution_count": 1,
   "metadata": {},
   "outputs": [],
   "source": [
    "from abc import ABC, abstractmethod\n",
    "from collections import namedtuple\n",
    "\n",
    "Customer = namedtuple('Customer', 'name fidelity')\n",
    "\n",
    "class LineItem:\n",
    "  def __init__(self, product, quantity, price):\n",
    "    self.product = product\n",
    "    self.quantity = quantity\n",
    "    self.price = price\n",
    "\n",
    "  def total(self):\n",
    "    return self.price * self.quantity\n",
    "\n",
    "class Order:\n",
    "  def __init__(self, customer, cart, promotion=None):\n",
    "    self.customer = customer\n",
    "    self.cart = list(cart)\n",
    "    self.promotion = promotion\n",
    "  \n",
    "  def total(self):\n",
    "    if not hasattr(self, '__total'):\n",
    "      self.__total = sum(item.total() for item in self.cart)\n",
    "      \n",
    "      return self.__total\n",
    "\n",
    "  def due(self):\n",
    "    if self.promotion is None:\n",
    "      discount = 0\n",
    "    else:\n",
    "      discount = self.promotion.discount(self)\n",
    "\n",
    "    return self.total() - discount\n",
    "\n",
    "  def __repr__(self):\n",
    "    fmt = '<Order total: {:.2f} due: {:.2f}>'\n",
    "    \n",
    "    return fmt.format(self.total(), self.due())\n",
    "\n",
    "class Promotion (ABC):\n",
    "\n",
    "  @abstractmethod\n",
    "  def discount(self, order):\n",
    "    \"\"\"Devolve o desconto como um valor positivo em dólares\"\"\"\n",
    "\n",
    "class FidelityPromo(Promotion):\n",
    "  \"\"\"5% de desconto para clientes com mil ou mais pontos no programa de fidelidade\"\"\"\n",
    "  def discount(self, order):\n",
    "    return order.total() * .05 if order.customer.fidelity >= 1000 else 0\n",
    "\n",
    "class BulkItemPromo(Promotion):\n",
    "  \"\"\"10% de desconto para cada LineItem com 20 ou mais unidades\"\"\"\n",
    "  def discount(self, order):\n",
    "    discount = 0\n",
    "  \n",
    "    for item in order.cart:\n",
    "      if item.quantity >= 20:\n",
    "        discount += item.total() * .1\n",
    "\n",
    "        return discount\n",
    "\n",
    "class LargeOrderPromo(Promotion):\n",
    "  \"\"\"7% de desconto para pedidos com 10 ou mais itens diferentes\"\"\"\n",
    "  def discount(self, order):\n",
    "    distinct_items = {item.product for item in order.cart}\n",
    "\n",
    "    if len(distinct_items) >= 10:\n",
    "      return order.total() * .07\n",
    "    \n",
    "    return 0"
   ]
  },
  {
   "attachments": {},
   "cell_type": "markdown",
   "metadata": {},
   "source": [
    "### Exemplo de uso da classe Order com a aplicação de diferentes promoções"
   ]
  },
  {
   "cell_type": "code",
   "execution_count": 2,
   "metadata": {},
   "outputs": [
    {
     "data": {
      "text/plain": [
       "<Order total: 42.00 due: 42.00>"
      ]
     },
     "execution_count": 2,
     "metadata": {},
     "output_type": "execute_result"
    }
   ],
   "source": [
    "joe = Customer('John Doe', 0)\n",
    "ann = Customer('Ann Smith', 1100)\n",
    "\n",
    "cart = [\n",
    "  LineItem('banana', 4, .5),\n",
    "  LineItem('apple', 10, 1.5),\n",
    "  LineItem('watermelon', 5, 5.0)\n",
    "]\n",
    "\n",
    "banana_cart = [\n",
    "  LineItem('banana', 30, .5),\n",
    "  LineItem('apple', 10, 1.5)\n",
    "]\n",
    "\n",
    "long_order = [\n",
    "  LineItem(str(item_code), 1, 1.0)\n",
    "  for item_code in range(10)\n",
    "]\n",
    "\n",
    "Order(joe, cart, FidelityPromo())\n",
    "Order(ann, cart, FidelityPromo())\n",
    "Order(joe, banana_cart, BulkItemPromo())\n",
    "Order(joe, long_order, LargeOrderPromo())\n",
    "Order(joe, cart, LargeOrderPromo())"
   ]
  },
  {
   "attachments": {},
   "cell_type": "markdown",
   "metadata": {},
   "source": [
    "## Strategy orientado a função"
   ]
  },
  {
   "attachments": {},
   "cell_type": "markdown",
   "metadata": {},
   "source": [
    "### Exemplo de implementação da classe Order com estratégias de desconto implementadas como funções"
   ]
  },
  {
   "cell_type": "code",
   "execution_count": 3,
   "metadata": {},
   "outputs": [],
   "source": [
    "from collections import namedtuple\n",
    "\n",
    "Customer = namedtuple('Customer', 'name fidelity')\n",
    "\n",
    "class LineItem:\n",
    "  def __init__ (self, product, quantity, price):\n",
    "    self.product = product\n",
    "    self.quantity = quantity\n",
    "    self.price = price\n",
    "  \n",
    "  def total(self):\n",
    "    return self.price * self.quantity\n",
    "\n",
    "class Order:\n",
    "  def __init__(self, customer, cart, promotion=None):\n",
    "    self.customer = customer\n",
    "    self.cart = list(cart)\n",
    "    self.promotion = promotion\n",
    "  \n",
    "  def total(self):\n",
    "    if not hasattr(self, '__total'):\n",
    "      self.__total = sum(item.total() for item in self.cart)\n",
    "    return self.__total\n",
    "\n",
    "  def due(self):\n",
    "    if self.promotion is None:\n",
    "      discount = 0\n",
    "    else:\n",
    "      discount = self.promotion(self)\n",
    "    \n",
    "    return self.total() - discount\n",
    "  \n",
    "  def __repr__(self):\n",
    "    fmt = '<Order total: {:.2f} due: {:.2f}>'\n",
    "    \n",
    "    return fmt.format(self.total(), self.due())\n",
    "\n",
    "def fidelity_promo(order):\n",
    "    \"\"\"5% de desconto para clientes com mil ou mais pontos no programa de fidelidade\"\"\"\n",
    "    return order.total() * .05 if order.customer.fidelity >= 1000 else 0\n",
    "\n",
    "def bulk_item_promo(order):\n",
    "  \"\"\"10% de desconto para cada LineItem com 20 ou mais unidades\"\"\"\n",
    "  discount = 0\n",
    "  \n",
    "  for item in order.cart:\n",
    "    if item.quantity >= 20:\n",
    "      discount += item.total() * .1\n",
    "  \n",
    "  return discount\n",
    "\n",
    "def large_order_promo(order):\n",
    "  \"\"\"7% de desconto para pedidos com 10 ou mais itens diferentes\"\"\"\n",
    "  distinct_items = {item.product for item in order.cart}\n",
    "  \n",
    "  if len(distinct_items) >= 10:\n",
    "    return order.total() * .07\n",
    "\n",
    "  return 0"
   ]
  },
  {
   "attachments": {},
   "cell_type": "markdown",
   "metadata": {},
   "source": [
    "### Exemplo de uso da classe Order com a aplicação de diferentes promoções"
   ]
  },
  {
   "cell_type": "code",
   "execution_count": 4,
   "metadata": {},
   "outputs": [
    {
     "data": {
      "text/plain": [
       "<Order total: 42.00 due: 42.00>"
      ]
     },
     "execution_count": 4,
     "metadata": {},
     "output_type": "execute_result"
    }
   ],
   "source": [
    "joe = Customer('John Doe', 0)\n",
    "ann = Customer('Ann Smith', 1100)\n",
    "\n",
    "cart = [\n",
    "  LineItem('banana', 4, .5),\n",
    "  LineItem('apple', 10, 1.5),\n",
    "  LineItem('watermelon', 5, 5.0)\n",
    "]\n",
    "banana_cart = [\n",
    "  LineItem('banana', 30, .5),\n",
    "  LineItem('apple', 10, 1.5)\n",
    "]\n",
    "long_order = [\n",
    "  LineItem(str(item_code), 1, 1.0)\n",
    "  for item_code in range(10)\n",
    "]\n",
    "\n",
    "Order(joe, cart, fidelity_promo)\n",
    "Order(ann, cart, fidelity_promo)\n",
    "Order(joe, banana_cart, bulk_item_promo)\n",
    "Order(joe, long_order, large_order_promo)\n",
    "Order (joe, cart, large_order_promo)"
   ]
  },
  {
   "attachments": {},
   "cell_type": "markdown",
   "metadata": {},
   "source": [
    "### Escolhendo a melhor estratégia: abordagem simples"
   ]
  },
  {
   "cell_type": "code",
   "execution_count": 5,
   "metadata": {},
   "outputs": [],
   "source": [
    "# best_promo encontra o desconto máximo fazendo uma iteração por uma lista de funções\n",
    "\n",
    "promos = [fidelity_promo, bulk_item_promo, large_order_promo]\n",
    "\n",
    "def best_promo(order):\n",
    "  \"\"\"Seleciona o melhor desconto disponível\"\"\"\n",
    "  return max(promo(order) for promo in promos)"
   ]
  },
  {
   "cell_type": "code",
   "execution_count": 6,
   "metadata": {},
   "outputs": [
    {
     "data": {
      "text/plain": [
       "<Order total: 42.00 due: 39.90>"
      ]
     },
     "execution_count": 6,
     "metadata": {},
     "output_type": "execute_result"
    }
   ],
   "source": [
    "# A função best_promo aplica todos os descontos e retorna o maior\n",
    "Order(joe, long_order, best_promo)\n",
    "Order(joe, banana_cart, best_promo)\n",
    "Order(ann, cart, best_promo)"
   ]
  },
  {
   "attachments": {},
   "cell_type": "markdown",
   "metadata": {},
   "source": [
    "### Encontrando estratégias em um módulo"
   ]
  },
  {
   "cell_type": "code",
   "execution_count": 7,
   "metadata": {},
   "outputs": [],
   "source": [
    "# A lista promos é criada por introspecção do namespace global do módulo\n",
    "\n",
    "promos = [\n",
    "  globals()[name] \n",
    "  for name in globals()\n",
    "  if name.endswith('_promo') and name != 'best_promo'\n",
    "]\n",
    "\n",
    "def best_promo(order):\n",
    "  \"\"\"Seleciona o melhor desconto disponível\"\"\"\n",
    "  return max(promo(order) for promo in promos)"
   ]
  },
  {
   "cell_type": "code",
   "execution_count": 31,
   "metadata": {},
   "outputs": [
    {
     "name": "stdout",
     "output_type": "stream",
     "text": [
      "['__builtins__', '__cached__', '__doc__', '__file__', '__loader__', '__name__', '__package__', '__path__', '__spec__', 'promotions']\n"
     ]
    }
   ],
   "source": [
    "# A lista promos é criada por introspecção em um novo módulo promotions\n",
    "\n",
    "import inspect\n",
    "\n",
    "promos = [\n",
    "  name\n",
    "  for name, func in inspect.getmembers(promotions)\n",
    "]\n",
    "\n",
    "def best_promo(order):\n",
    "  \"\"\"Seleciona o melhor desconto disponível\"\"\"\n",
    "  return max(promo(order) for promo in promos)"
   ]
  },
  {
   "attachments": {},
   "cell_type": "markdown",
   "metadata": {},
   "source": [
    "## Command"
   ]
  },
  {
   "cell_type": "code",
   "execution_count": null,
   "metadata": {},
   "outputs": [],
   "source": [
    "# Cada instância de MacroCommand tem uma lista interna de comandos\n",
    "\n",
    "class MacroCommand:\n",
    "  \"\"\"Um comando que executa uma lista de comandos\"\"\"\n",
    "  def __init__ (self, commands):\n",
    "    self.commands = list(commands)\n",
    "  \n",
    "  def __call__(self):\n",
    "    for command in self.commands:\n",
    "      command()"
   ]
  }
 ],
 "metadata": {
  "kernelspec": {
   "display_name": "Python 3",
   "language": "python",
   "name": "python3"
  },
  "language_info": {
   "codemirror_mode": {
    "name": "ipython",
    "version": 3
   },
   "file_extension": ".py",
   "mimetype": "text/x-python",
   "name": "python",
   "nbconvert_exporter": "python",
   "pygments_lexer": "ipython3",
   "version": "3.8.10"
  },
  "orig_nbformat": 4,
  "vscode": {
   "interpreter": {
    "hash": "31f2aee4e71d21fbe5cf8b01ff0e069b9275f58929596ceb00d14d90e3e16cd6"
   }
  }
 },
 "nbformat": 4,
 "nbformat_minor": 2
}
